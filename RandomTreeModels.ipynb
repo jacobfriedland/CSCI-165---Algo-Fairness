{
 "cells": [
  {
   "cell_type": "code",
   "execution_count": 2,
   "id": "e11f4d68",
   "metadata": {},
   "outputs": [],
   "source": [
    "import pandas as pd\n",
    "import matplotlib.pyplot as plt\n",
    "import seaborn as sns\n",
    "from pandas.api.types import is_string_dtype\n",
    "from sklearn import preprocessing\n",
    "from sklearn.preprocessing import OneHotEncoder\n",
    "from sklearn.model_selection import train_test_split\n",
    "from sklearn.ensemble import RandomForestClassifier\n",
    "import numpy\n",
    "from sklearn import metrics"
   ]
  },
  {
   "cell_type": "code",
   "execution_count": 3,
   "id": "8a10b92e",
   "metadata": {},
   "outputs": [],
   "source": [
    "# Data Preprocessing\n",
    "trainData = pd.read_csv('adult-training.csv')\n",
    "trainData.columns = ['Age','WorkClass','fnlwgt','Education','Education_num','Martial_status','Occupation','Relationship','Race','Gender','capital_gain', 'capital_loss', 'hours_per_week','Country','Income']\n",
    "trainX = trainData.drop(['Income'],axis=1)\n",
    "trainY = trainData.drop(['Age','WorkClass','fnlwgt','Education','Education_num','Martial_status','Occupation','Relationship','Race','Gender','capital_gain', 'capital_loss', 'hours_per_week','Country'],axis=1)\n",
    "trainY = pd.get_dummies(trainY)\n",
    "trainY = trainY.drop(['Income_ <=50K'], axis = 1)\n",
    "trainX = pd.get_dummies(trainX)\n"
   ]
  },
  {
   "cell_type": "code",
   "execution_count": 4,
   "id": "e4cf2e05",
   "metadata": {
    "scrolled": true
   },
   "outputs": [
    {
     "name": "stdout",
     "output_type": "stream",
     "text": [
      "Education_10th\n",
      "Education_11th\n",
      "Education_12th\n",
      "Education_1st-4th\n",
      "Education_5th-6th\n",
      "Education_7th-8th\n",
      "Education_9th\n",
      "Education_ 10th\n",
      "Education_ 11th\n",
      "Education_ 12th\n",
      "Education_ 1st-4th\n",
      "Education_ 5th-6th\n",
      "Education_ 7th-8th\n",
      "Education_ 9th\n",
      "Country_ Holand-Netherlands\n"
     ]
    }
   ],
   "source": [
    "#Data preprocessing and Training for Race aware-classifirer\n",
    "testData= pd.read_csv('adult-test.csv')\n",
    "testX = testData.drop(['Income'],axis=1)\n",
    "testY = testData.drop(['Age','WorkClass','fnlwgt','Education','Education_num','Martial_status','Occupation','Relationship','Race','Gender','capital_gain', 'capital_loss', 'hours_per_week','Country'],axis=1)\n",
    "testY = pd.get_dummies(testY)\n",
    "testY = testY.drop(['Income_<=50K.'],axis=1)\n",
    "testY.columns=['Income_ >50K']\n",
    "testX = pd.get_dummies(testX)\n",
    "for co in testX.columns:\n",
    "    if co not in trainX.columns:\n",
    "        print(co)\n",
    "for co in trainX.columns:\n",
    "    if co not in testX.columns:\n",
    "        print(co)\n"
   ]
  },
  {
   "cell_type": "code",
   "execution_count": 5,
   "id": "c7e8b7f0",
   "metadata": {},
   "outputs": [],
   "source": [
    "trainX = trainX.drop(['Country_ Holand-Netherlands'],axis=1)"
   ]
  },
  {
   "cell_type": "code",
   "execution_count": 6,
   "id": "91ac47f6",
   "metadata": {},
   "outputs": [],
   "source": [
    "trainX.rename(columns = {'Education_ 10th':'Education_10th','Education_ 11th':'Education_11th','Education_ 12th':'Education_12th','Education_ 1st-4th':'Education_1st-4th','Education_ 5th-6th':'Education_5th-6th','Education_ 7th-8th':'Education_7th-8th','Education_ 9th':'Education_9th'},inplace = True)\n",
    "for co in testX.columns:\n",
    "    if co not in trainX.columns:\n",
    "        print(co)\n",
    "for co in trainX.columns:\n",
    "    if co not in testX.columns:\n",
    "        print(co)"
   ]
  },
  {
   "cell_type": "code",
   "execution_count": 7,
   "id": "add04810",
   "metadata": {},
   "outputs": [
    {
     "name": "stderr",
     "output_type": "stream",
     "text": [
      "/var/folders/4k/859znx6d5bb2jr7f0sp80r180000gn/T/ipykernel_51308/2723992037.py:6: DataConversionWarning: A column-vector y was passed when a 1d array was expected. Please change the shape of y to (n_samples,), for example using ravel().\n",
      "  clf.fit(trainX, trainY)\n",
      "/var/folders/4k/859znx6d5bb2jr7f0sp80r180000gn/T/ipykernel_51308/2723992037.py:6: DataConversionWarning: A column-vector y was passed when a 1d array was expected. Please change the shape of y to (n_samples,), for example using ravel().\n",
      "  clf.fit(trainX, trainY)\n",
      "/var/folders/4k/859znx6d5bb2jr7f0sp80r180000gn/T/ipykernel_51308/2723992037.py:6: DataConversionWarning: A column-vector y was passed when a 1d array was expected. Please change the shape of y to (n_samples,), for example using ravel().\n",
      "  clf.fit(trainX, trainY)\n",
      "/var/folders/4k/859znx6d5bb2jr7f0sp80r180000gn/T/ipykernel_51308/2723992037.py:6: DataConversionWarning: A column-vector y was passed when a 1d array was expected. Please change the shape of y to (n_samples,), for example using ravel().\n",
      "  clf.fit(trainX, trainY)\n",
      "/var/folders/4k/859znx6d5bb2jr7f0sp80r180000gn/T/ipykernel_51308/2723992037.py:6: DataConversionWarning: A column-vector y was passed when a 1d array was expected. Please change the shape of y to (n_samples,), for example using ravel().\n",
      "  clf.fit(trainX, trainY)\n",
      "/var/folders/4k/859znx6d5bb2jr7f0sp80r180000gn/T/ipykernel_51308/2723992037.py:6: DataConversionWarning: A column-vector y was passed when a 1d array was expected. Please change the shape of y to (n_samples,), for example using ravel().\n",
      "  clf.fit(trainX, trainY)\n",
      "/var/folders/4k/859znx6d5bb2jr7f0sp80r180000gn/T/ipykernel_51308/2723992037.py:6: DataConversionWarning: A column-vector y was passed when a 1d array was expected. Please change the shape of y to (n_samples,), for example using ravel().\n",
      "  clf.fit(trainX, trainY)\n",
      "/var/folders/4k/859znx6d5bb2jr7f0sp80r180000gn/T/ipykernel_51308/2723992037.py:6: DataConversionWarning: A column-vector y was passed when a 1d array was expected. Please change the shape of y to (n_samples,), for example using ravel().\n",
      "  clf.fit(trainX, trainY)\n",
      "/var/folders/4k/859znx6d5bb2jr7f0sp80r180000gn/T/ipykernel_51308/2723992037.py:6: DataConversionWarning: A column-vector y was passed when a 1d array was expected. Please change the shape of y to (n_samples,), for example using ravel().\n",
      "  clf.fit(trainX, trainY)\n",
      "/var/folders/4k/859znx6d5bb2jr7f0sp80r180000gn/T/ipykernel_51308/2723992037.py:6: DataConversionWarning: A column-vector y was passed when a 1d array was expected. Please change the shape of y to (n_samples,), for example using ravel().\n",
      "  clf.fit(trainX, trainY)\n",
      "/var/folders/4k/859znx6d5bb2jr7f0sp80r180000gn/T/ipykernel_51308/2723992037.py:6: DataConversionWarning: A column-vector y was passed when a 1d array was expected. Please change the shape of y to (n_samples,), for example using ravel().\n",
      "  clf.fit(trainX, trainY)\n",
      "/var/folders/4k/859znx6d5bb2jr7f0sp80r180000gn/T/ipykernel_51308/2723992037.py:6: DataConversionWarning: A column-vector y was passed when a 1d array was expected. Please change the shape of y to (n_samples,), for example using ravel().\n",
      "  clf.fit(trainX, trainY)\n",
      "/var/folders/4k/859znx6d5bb2jr7f0sp80r180000gn/T/ipykernel_51308/2723992037.py:6: DataConversionWarning: A column-vector y was passed when a 1d array was expected. Please change the shape of y to (n_samples,), for example using ravel().\n",
      "  clf.fit(trainX, trainY)\n",
      "/var/folders/4k/859znx6d5bb2jr7f0sp80r180000gn/T/ipykernel_51308/2723992037.py:6: DataConversionWarning: A column-vector y was passed when a 1d array was expected. Please change the shape of y to (n_samples,), for example using ravel().\n",
      "  clf.fit(trainX, trainY)\n",
      "/var/folders/4k/859znx6d5bb2jr7f0sp80r180000gn/T/ipykernel_51308/2723992037.py:6: DataConversionWarning: A column-vector y was passed when a 1d array was expected. Please change the shape of y to (n_samples,), for example using ravel().\n",
      "  clf.fit(trainX, trainY)\n",
      "/var/folders/4k/859znx6d5bb2jr7f0sp80r180000gn/T/ipykernel_51308/2723992037.py:6: DataConversionWarning: A column-vector y was passed when a 1d array was expected. Please change the shape of y to (n_samples,), for example using ravel().\n",
      "  clf.fit(trainX, trainY)\n",
      "/var/folders/4k/859znx6d5bb2jr7f0sp80r180000gn/T/ipykernel_51308/2723992037.py:6: DataConversionWarning: A column-vector y was passed when a 1d array was expected. Please change the shape of y to (n_samples,), for example using ravel().\n",
      "  clf.fit(trainX, trainY)\n",
      "/var/folders/4k/859znx6d5bb2jr7f0sp80r180000gn/T/ipykernel_51308/2723992037.py:6: DataConversionWarning: A column-vector y was passed when a 1d array was expected. Please change the shape of y to (n_samples,), for example using ravel().\n",
      "  clf.fit(trainX, trainY)\n",
      "/var/folders/4k/859znx6d5bb2jr7f0sp80r180000gn/T/ipykernel_51308/2723992037.py:6: DataConversionWarning: A column-vector y was passed when a 1d array was expected. Please change the shape of y to (n_samples,), for example using ravel().\n",
      "  clf.fit(trainX, trainY)\n",
      "/var/folders/4k/859znx6d5bb2jr7f0sp80r180000gn/T/ipykernel_51308/2723992037.py:6: DataConversionWarning: A column-vector y was passed when a 1d array was expected. Please change the shape of y to (n_samples,), for example using ravel().\n",
      "  clf.fit(trainX, trainY)\n",
      "/var/folders/4k/859znx6d5bb2jr7f0sp80r180000gn/T/ipykernel_51308/2723992037.py:6: DataConversionWarning: A column-vector y was passed when a 1d array was expected. Please change the shape of y to (n_samples,), for example using ravel().\n",
      "  clf.fit(trainX, trainY)\n",
      "/var/folders/4k/859znx6d5bb2jr7f0sp80r180000gn/T/ipykernel_51308/2723992037.py:6: DataConversionWarning: A column-vector y was passed when a 1d array was expected. Please change the shape of y to (n_samples,), for example using ravel().\n",
      "  clf.fit(trainX, trainY)\n",
      "/var/folders/4k/859znx6d5bb2jr7f0sp80r180000gn/T/ipykernel_51308/2723992037.py:6: DataConversionWarning: A column-vector y was passed when a 1d array was expected. Please change the shape of y to (n_samples,), for example using ravel().\n",
      "  clf.fit(trainX, trainY)\n",
      "/var/folders/4k/859znx6d5bb2jr7f0sp80r180000gn/T/ipykernel_51308/2723992037.py:6: DataConversionWarning: A column-vector y was passed when a 1d array was expected. Please change the shape of y to (n_samples,), for example using ravel().\n",
      "  clf.fit(trainX, trainY)\n",
      "/var/folders/4k/859znx6d5bb2jr7f0sp80r180000gn/T/ipykernel_51308/2723992037.py:6: DataConversionWarning: A column-vector y was passed when a 1d array was expected. Please change the shape of y to (n_samples,), for example using ravel().\n",
      "  clf.fit(trainX, trainY)\n",
      "/var/folders/4k/859znx6d5bb2jr7f0sp80r180000gn/T/ipykernel_51308/2723992037.py:6: DataConversionWarning: A column-vector y was passed when a 1d array was expected. Please change the shape of y to (n_samples,), for example using ravel().\n",
      "  clf.fit(trainX, trainY)\n",
      "/var/folders/4k/859znx6d5bb2jr7f0sp80r180000gn/T/ipykernel_51308/2723992037.py:6: DataConversionWarning: A column-vector y was passed when a 1d array was expected. Please change the shape of y to (n_samples,), for example using ravel().\n",
      "  clf.fit(trainX, trainY)\n",
      "/var/folders/4k/859znx6d5bb2jr7f0sp80r180000gn/T/ipykernel_51308/2723992037.py:6: DataConversionWarning: A column-vector y was passed when a 1d array was expected. Please change the shape of y to (n_samples,), for example using ravel().\n",
      "  clf.fit(trainX, trainY)\n",
      "/var/folders/4k/859znx6d5bb2jr7f0sp80r180000gn/T/ipykernel_51308/2723992037.py:6: DataConversionWarning: A column-vector y was passed when a 1d array was expected. Please change the shape of y to (n_samples,), for example using ravel().\n",
      "  clf.fit(trainX, trainY)\n",
      "/var/folders/4k/859znx6d5bb2jr7f0sp80r180000gn/T/ipykernel_51308/2723992037.py:6: DataConversionWarning: A column-vector y was passed when a 1d array was expected. Please change the shape of y to (n_samples,), for example using ravel().\n",
      "  clf.fit(trainX, trainY)\n",
      "/var/folders/4k/859znx6d5bb2jr7f0sp80r180000gn/T/ipykernel_51308/2723992037.py:6: DataConversionWarning: A column-vector y was passed when a 1d array was expected. Please change the shape of y to (n_samples,), for example using ravel().\n",
      "  clf.fit(trainX, trainY)\n",
      "/var/folders/4k/859znx6d5bb2jr7f0sp80r180000gn/T/ipykernel_51308/2723992037.py:6: DataConversionWarning: A column-vector y was passed when a 1d array was expected. Please change the shape of y to (n_samples,), for example using ravel().\n",
      "  clf.fit(trainX, trainY)\n"
     ]
    },
    {
     "name": "stderr",
     "output_type": "stream",
     "text": [
      "/var/folders/4k/859znx6d5bb2jr7f0sp80r180000gn/T/ipykernel_51308/2723992037.py:6: DataConversionWarning: A column-vector y was passed when a 1d array was expected. Please change the shape of y to (n_samples,), for example using ravel().\n",
      "  clf.fit(trainX, trainY)\n",
      "/var/folders/4k/859znx6d5bb2jr7f0sp80r180000gn/T/ipykernel_51308/2723992037.py:6: DataConversionWarning: A column-vector y was passed when a 1d array was expected. Please change the shape of y to (n_samples,), for example using ravel().\n",
      "  clf.fit(trainX, trainY)\n",
      "/var/folders/4k/859znx6d5bb2jr7f0sp80r180000gn/T/ipykernel_51308/2723992037.py:6: DataConversionWarning: A column-vector y was passed when a 1d array was expected. Please change the shape of y to (n_samples,), for example using ravel().\n",
      "  clf.fit(trainX, trainY)\n",
      "/var/folders/4k/859znx6d5bb2jr7f0sp80r180000gn/T/ipykernel_51308/2723992037.py:6: DataConversionWarning: A column-vector y was passed when a 1d array was expected. Please change the shape of y to (n_samples,), for example using ravel().\n",
      "  clf.fit(trainX, trainY)\n",
      "/var/folders/4k/859znx6d5bb2jr7f0sp80r180000gn/T/ipykernel_51308/2723992037.py:6: DataConversionWarning: A column-vector y was passed when a 1d array was expected. Please change the shape of y to (n_samples,), for example using ravel().\n",
      "  clf.fit(trainX, trainY)\n",
      "/var/folders/4k/859znx6d5bb2jr7f0sp80r180000gn/T/ipykernel_51308/2723992037.py:6: DataConversionWarning: A column-vector y was passed when a 1d array was expected. Please change the shape of y to (n_samples,), for example using ravel().\n",
      "  clf.fit(trainX, trainY)\n",
      "/var/folders/4k/859znx6d5bb2jr7f0sp80r180000gn/T/ipykernel_51308/2723992037.py:6: DataConversionWarning: A column-vector y was passed when a 1d array was expected. Please change the shape of y to (n_samples,), for example using ravel().\n",
      "  clf.fit(trainX, trainY)\n",
      "/var/folders/4k/859znx6d5bb2jr7f0sp80r180000gn/T/ipykernel_51308/2723992037.py:6: DataConversionWarning: A column-vector y was passed when a 1d array was expected. Please change the shape of y to (n_samples,), for example using ravel().\n",
      "  clf.fit(trainX, trainY)\n",
      "/var/folders/4k/859znx6d5bb2jr7f0sp80r180000gn/T/ipykernel_51308/2723992037.py:6: DataConversionWarning: A column-vector y was passed when a 1d array was expected. Please change the shape of y to (n_samples,), for example using ravel().\n",
      "  clf.fit(trainX, trainY)\n",
      "/var/folders/4k/859znx6d5bb2jr7f0sp80r180000gn/T/ipykernel_51308/2723992037.py:6: DataConversionWarning: A column-vector y was passed when a 1d array was expected. Please change the shape of y to (n_samples,), for example using ravel().\n",
      "  clf.fit(trainX, trainY)\n",
      "/var/folders/4k/859znx6d5bb2jr7f0sp80r180000gn/T/ipykernel_51308/2723992037.py:6: DataConversionWarning: A column-vector y was passed when a 1d array was expected. Please change the shape of y to (n_samples,), for example using ravel().\n",
      "  clf.fit(trainX, trainY)\n",
      "/var/folders/4k/859znx6d5bb2jr7f0sp80r180000gn/T/ipykernel_51308/2723992037.py:6: DataConversionWarning: A column-vector y was passed when a 1d array was expected. Please change the shape of y to (n_samples,), for example using ravel().\n",
      "  clf.fit(trainX, trainY)\n",
      "/var/folders/4k/859znx6d5bb2jr7f0sp80r180000gn/T/ipykernel_51308/2723992037.py:6: DataConversionWarning: A column-vector y was passed when a 1d array was expected. Please change the shape of y to (n_samples,), for example using ravel().\n",
      "  clf.fit(trainX, trainY)\n",
      "/var/folders/4k/859znx6d5bb2jr7f0sp80r180000gn/T/ipykernel_51308/2723992037.py:6: DataConversionWarning: A column-vector y was passed when a 1d array was expected. Please change the shape of y to (n_samples,), for example using ravel().\n",
      "  clf.fit(trainX, trainY)\n",
      "/var/folders/4k/859znx6d5bb2jr7f0sp80r180000gn/T/ipykernel_51308/2723992037.py:6: DataConversionWarning: A column-vector y was passed when a 1d array was expected. Please change the shape of y to (n_samples,), for example using ravel().\n",
      "  clf.fit(trainX, trainY)\n",
      "/var/folders/4k/859znx6d5bb2jr7f0sp80r180000gn/T/ipykernel_51308/2723992037.py:6: DataConversionWarning: A column-vector y was passed when a 1d array was expected. Please change the shape of y to (n_samples,), for example using ravel().\n",
      "  clf.fit(trainX, trainY)\n",
      "/var/folders/4k/859znx6d5bb2jr7f0sp80r180000gn/T/ipykernel_51308/2723992037.py:6: DataConversionWarning: A column-vector y was passed when a 1d array was expected. Please change the shape of y to (n_samples,), for example using ravel().\n",
      "  clf.fit(trainX, trainY)\n",
      "/var/folders/4k/859znx6d5bb2jr7f0sp80r180000gn/T/ipykernel_51308/2723992037.py:6: DataConversionWarning: A column-vector y was passed when a 1d array was expected. Please change the shape of y to (n_samples,), for example using ravel().\n",
      "  clf.fit(trainX, trainY)\n",
      "/var/folders/4k/859znx6d5bb2jr7f0sp80r180000gn/T/ipykernel_51308/2723992037.py:6: DataConversionWarning: A column-vector y was passed when a 1d array was expected. Please change the shape of y to (n_samples,), for example using ravel().\n",
      "  clf.fit(trainX, trainY)\n",
      "/var/folders/4k/859znx6d5bb2jr7f0sp80r180000gn/T/ipykernel_51308/2723992037.py:6: DataConversionWarning: A column-vector y was passed when a 1d array was expected. Please change the shape of y to (n_samples,), for example using ravel().\n",
      "  clf.fit(trainX, trainY)\n",
      "/var/folders/4k/859znx6d5bb2jr7f0sp80r180000gn/T/ipykernel_51308/2723992037.py:6: DataConversionWarning: A column-vector y was passed when a 1d array was expected. Please change the shape of y to (n_samples,), for example using ravel().\n",
      "  clf.fit(trainX, trainY)\n",
      "/var/folders/4k/859znx6d5bb2jr7f0sp80r180000gn/T/ipykernel_51308/2723992037.py:6: DataConversionWarning: A column-vector y was passed when a 1d array was expected. Please change the shape of y to (n_samples,), for example using ravel().\n",
      "  clf.fit(trainX, trainY)\n",
      "/var/folders/4k/859znx6d5bb2jr7f0sp80r180000gn/T/ipykernel_51308/2723992037.py:6: DataConversionWarning: A column-vector y was passed when a 1d array was expected. Please change the shape of y to (n_samples,), for example using ravel().\n",
      "  clf.fit(trainX, trainY)\n",
      "/var/folders/4k/859znx6d5bb2jr7f0sp80r180000gn/T/ipykernel_51308/2723992037.py:6: DataConversionWarning: A column-vector y was passed when a 1d array was expected. Please change the shape of y to (n_samples,), for example using ravel().\n",
      "  clf.fit(trainX, trainY)\n",
      "/var/folders/4k/859znx6d5bb2jr7f0sp80r180000gn/T/ipykernel_51308/2723992037.py:6: DataConversionWarning: A column-vector y was passed when a 1d array was expected. Please change the shape of y to (n_samples,), for example using ravel().\n",
      "  clf.fit(trainX, trainY)\n",
      "/var/folders/4k/859znx6d5bb2jr7f0sp80r180000gn/T/ipykernel_51308/2723992037.py:6: DataConversionWarning: A column-vector y was passed when a 1d array was expected. Please change the shape of y to (n_samples,), for example using ravel().\n",
      "  clf.fit(trainX, trainY)\n",
      "/var/folders/4k/859znx6d5bb2jr7f0sp80r180000gn/T/ipykernel_51308/2723992037.py:6: DataConversionWarning: A column-vector y was passed when a 1d array was expected. Please change the shape of y to (n_samples,), for example using ravel().\n",
      "  clf.fit(trainX, trainY)\n",
      "/var/folders/4k/859znx6d5bb2jr7f0sp80r180000gn/T/ipykernel_51308/2723992037.py:6: DataConversionWarning: A column-vector y was passed when a 1d array was expected. Please change the shape of y to (n_samples,), for example using ravel().\n",
      "  clf.fit(trainX, trainY)\n",
      "/var/folders/4k/859znx6d5bb2jr7f0sp80r180000gn/T/ipykernel_51308/2723992037.py:6: DataConversionWarning: A column-vector y was passed when a 1d array was expected. Please change the shape of y to (n_samples,), for example using ravel().\n",
      "  clf.fit(trainX, trainY)\n",
      "/var/folders/4k/859znx6d5bb2jr7f0sp80r180000gn/T/ipykernel_51308/2723992037.py:6: DataConversionWarning: A column-vector y was passed when a 1d array was expected. Please change the shape of y to (n_samples,), for example using ravel().\n",
      "  clf.fit(trainX, trainY)\n",
      "/var/folders/4k/859znx6d5bb2jr7f0sp80r180000gn/T/ipykernel_51308/2723992037.py:6: DataConversionWarning: A column-vector y was passed when a 1d array was expected. Please change the shape of y to (n_samples,), for example using ravel().\n",
      "  clf.fit(trainX, trainY)\n",
      "/var/folders/4k/859znx6d5bb2jr7f0sp80r180000gn/T/ipykernel_51308/2723992037.py:6: DataConversionWarning: A column-vector y was passed when a 1d array was expected. Please change the shape of y to (n_samples,), for example using ravel().\n",
      "  clf.fit(trainX, trainY)\n"
     ]
    },
    {
     "name": "stderr",
     "output_type": "stream",
     "text": [
      "/var/folders/4k/859znx6d5bb2jr7f0sp80r180000gn/T/ipykernel_51308/2723992037.py:6: DataConversionWarning: A column-vector y was passed when a 1d array was expected. Please change the shape of y to (n_samples,), for example using ravel().\n",
      "  clf.fit(trainX, trainY)\n",
      "/var/folders/4k/859znx6d5bb2jr7f0sp80r180000gn/T/ipykernel_51308/2723992037.py:6: DataConversionWarning: A column-vector y was passed when a 1d array was expected. Please change the shape of y to (n_samples,), for example using ravel().\n",
      "  clf.fit(trainX, trainY)\n",
      "/var/folders/4k/859znx6d5bb2jr7f0sp80r180000gn/T/ipykernel_51308/2723992037.py:6: DataConversionWarning: A column-vector y was passed when a 1d array was expected. Please change the shape of y to (n_samples,), for example using ravel().\n",
      "  clf.fit(trainX, trainY)\n",
      "/var/folders/4k/859znx6d5bb2jr7f0sp80r180000gn/T/ipykernel_51308/2723992037.py:6: DataConversionWarning: A column-vector y was passed when a 1d array was expected. Please change the shape of y to (n_samples,), for example using ravel().\n",
      "  clf.fit(trainX, trainY)\n",
      "/var/folders/4k/859znx6d5bb2jr7f0sp80r180000gn/T/ipykernel_51308/2723992037.py:6: DataConversionWarning: A column-vector y was passed when a 1d array was expected. Please change the shape of y to (n_samples,), for example using ravel().\n",
      "  clf.fit(trainX, trainY)\n",
      "/var/folders/4k/859znx6d5bb2jr7f0sp80r180000gn/T/ipykernel_51308/2723992037.py:6: DataConversionWarning: A column-vector y was passed when a 1d array was expected. Please change the shape of y to (n_samples,), for example using ravel().\n",
      "  clf.fit(trainX, trainY)\n",
      "/var/folders/4k/859znx6d5bb2jr7f0sp80r180000gn/T/ipykernel_51308/2723992037.py:6: DataConversionWarning: A column-vector y was passed when a 1d array was expected. Please change the shape of y to (n_samples,), for example using ravel().\n",
      "  clf.fit(trainX, trainY)\n",
      "/var/folders/4k/859znx6d5bb2jr7f0sp80r180000gn/T/ipykernel_51308/2723992037.py:6: DataConversionWarning: A column-vector y was passed when a 1d array was expected. Please change the shape of y to (n_samples,), for example using ravel().\n",
      "  clf.fit(trainX, trainY)\n",
      "/var/folders/4k/859znx6d5bb2jr7f0sp80r180000gn/T/ipykernel_51308/2723992037.py:6: DataConversionWarning: A column-vector y was passed when a 1d array was expected. Please change the shape of y to (n_samples,), for example using ravel().\n",
      "  clf.fit(trainX, trainY)\n",
      "/var/folders/4k/859znx6d5bb2jr7f0sp80r180000gn/T/ipykernel_51308/2723992037.py:6: DataConversionWarning: A column-vector y was passed when a 1d array was expected. Please change the shape of y to (n_samples,), for example using ravel().\n",
      "  clf.fit(trainX, trainY)\n",
      "/var/folders/4k/859znx6d5bb2jr7f0sp80r180000gn/T/ipykernel_51308/2723992037.py:6: DataConversionWarning: A column-vector y was passed when a 1d array was expected. Please change the shape of y to (n_samples,), for example using ravel().\n",
      "  clf.fit(trainX, trainY)\n",
      "/var/folders/4k/859znx6d5bb2jr7f0sp80r180000gn/T/ipykernel_51308/2723992037.py:6: DataConversionWarning: A column-vector y was passed when a 1d array was expected. Please change the shape of y to (n_samples,), for example using ravel().\n",
      "  clf.fit(trainX, trainY)\n",
      "/var/folders/4k/859znx6d5bb2jr7f0sp80r180000gn/T/ipykernel_51308/2723992037.py:6: DataConversionWarning: A column-vector y was passed when a 1d array was expected. Please change the shape of y to (n_samples,), for example using ravel().\n",
      "  clf.fit(trainX, trainY)\n",
      "/var/folders/4k/859znx6d5bb2jr7f0sp80r180000gn/T/ipykernel_51308/2723992037.py:6: DataConversionWarning: A column-vector y was passed when a 1d array was expected. Please change the shape of y to (n_samples,), for example using ravel().\n",
      "  clf.fit(trainX, trainY)\n",
      "/var/folders/4k/859znx6d5bb2jr7f0sp80r180000gn/T/ipykernel_51308/2723992037.py:6: DataConversionWarning: A column-vector y was passed when a 1d array was expected. Please change the shape of y to (n_samples,), for example using ravel().\n",
      "  clf.fit(trainX, trainY)\n",
      "/var/folders/4k/859znx6d5bb2jr7f0sp80r180000gn/T/ipykernel_51308/2723992037.py:6: DataConversionWarning: A column-vector y was passed when a 1d array was expected. Please change the shape of y to (n_samples,), for example using ravel().\n",
      "  clf.fit(trainX, trainY)\n",
      "/var/folders/4k/859znx6d5bb2jr7f0sp80r180000gn/T/ipykernel_51308/2723992037.py:6: DataConversionWarning: A column-vector y was passed when a 1d array was expected. Please change the shape of y to (n_samples,), for example using ravel().\n",
      "  clf.fit(trainX, trainY)\n",
      "/var/folders/4k/859znx6d5bb2jr7f0sp80r180000gn/T/ipykernel_51308/2723992037.py:6: DataConversionWarning: A column-vector y was passed when a 1d array was expected. Please change the shape of y to (n_samples,), for example using ravel().\n",
      "  clf.fit(trainX, trainY)\n",
      "/var/folders/4k/859znx6d5bb2jr7f0sp80r180000gn/T/ipykernel_51308/2723992037.py:6: DataConversionWarning: A column-vector y was passed when a 1d array was expected. Please change the shape of y to (n_samples,), for example using ravel().\n",
      "  clf.fit(trainX, trainY)\n",
      "/var/folders/4k/859znx6d5bb2jr7f0sp80r180000gn/T/ipykernel_51308/2723992037.py:6: DataConversionWarning: A column-vector y was passed when a 1d array was expected. Please change the shape of y to (n_samples,), for example using ravel().\n",
      "  clf.fit(trainX, trainY)\n",
      "/var/folders/4k/859znx6d5bb2jr7f0sp80r180000gn/T/ipykernel_51308/2723992037.py:6: DataConversionWarning: A column-vector y was passed when a 1d array was expected. Please change the shape of y to (n_samples,), for example using ravel().\n",
      "  clf.fit(trainX, trainY)\n",
      "/var/folders/4k/859znx6d5bb2jr7f0sp80r180000gn/T/ipykernel_51308/2723992037.py:6: DataConversionWarning: A column-vector y was passed when a 1d array was expected. Please change the shape of y to (n_samples,), for example using ravel().\n",
      "  clf.fit(trainX, trainY)\n",
      "/var/folders/4k/859znx6d5bb2jr7f0sp80r180000gn/T/ipykernel_51308/2723992037.py:6: DataConversionWarning: A column-vector y was passed when a 1d array was expected. Please change the shape of y to (n_samples,), for example using ravel().\n",
      "  clf.fit(trainX, trainY)\n",
      "/var/folders/4k/859znx6d5bb2jr7f0sp80r180000gn/T/ipykernel_51308/2723992037.py:6: DataConversionWarning: A column-vector y was passed when a 1d array was expected. Please change the shape of y to (n_samples,), for example using ravel().\n",
      "  clf.fit(trainX, trainY)\n",
      "/var/folders/4k/859znx6d5bb2jr7f0sp80r180000gn/T/ipykernel_51308/2723992037.py:6: DataConversionWarning: A column-vector y was passed when a 1d array was expected. Please change the shape of y to (n_samples,), for example using ravel().\n",
      "  clf.fit(trainX, trainY)\n",
      "/var/folders/4k/859znx6d5bb2jr7f0sp80r180000gn/T/ipykernel_51308/2723992037.py:6: DataConversionWarning: A column-vector y was passed when a 1d array was expected. Please change the shape of y to (n_samples,), for example using ravel().\n",
      "  clf.fit(trainX, trainY)\n",
      "/var/folders/4k/859znx6d5bb2jr7f0sp80r180000gn/T/ipykernel_51308/2723992037.py:6: DataConversionWarning: A column-vector y was passed when a 1d array was expected. Please change the shape of y to (n_samples,), for example using ravel().\n",
      "  clf.fit(trainX, trainY)\n",
      "/var/folders/4k/859znx6d5bb2jr7f0sp80r180000gn/T/ipykernel_51308/2723992037.py:6: DataConversionWarning: A column-vector y was passed when a 1d array was expected. Please change the shape of y to (n_samples,), for example using ravel().\n",
      "  clf.fit(trainX, trainY)\n",
      "/var/folders/4k/859znx6d5bb2jr7f0sp80r180000gn/T/ipykernel_51308/2723992037.py:6: DataConversionWarning: A column-vector y was passed when a 1d array was expected. Please change the shape of y to (n_samples,), for example using ravel().\n",
      "  clf.fit(trainX, trainY)\n",
      "/var/folders/4k/859znx6d5bb2jr7f0sp80r180000gn/T/ipykernel_51308/2723992037.py:6: DataConversionWarning: A column-vector y was passed when a 1d array was expected. Please change the shape of y to (n_samples,), for example using ravel().\n",
      "  clf.fit(trainX, trainY)\n",
      "/var/folders/4k/859znx6d5bb2jr7f0sp80r180000gn/T/ipykernel_51308/2723992037.py:6: DataConversionWarning: A column-vector y was passed when a 1d array was expected. Please change the shape of y to (n_samples,), for example using ravel().\n",
      "  clf.fit(trainX, trainY)\n",
      "/var/folders/4k/859znx6d5bb2jr7f0sp80r180000gn/T/ipykernel_51308/2723992037.py:6: DataConversionWarning: A column-vector y was passed when a 1d array was expected. Please change the shape of y to (n_samples,), for example using ravel().\n",
      "  clf.fit(trainX, trainY)\n"
     ]
    },
    {
     "name": "stderr",
     "output_type": "stream",
     "text": [
      "/var/folders/4k/859znx6d5bb2jr7f0sp80r180000gn/T/ipykernel_51308/2723992037.py:6: DataConversionWarning: A column-vector y was passed when a 1d array was expected. Please change the shape of y to (n_samples,), for example using ravel().\n",
      "  clf.fit(trainX, trainY)\n",
      "/var/folders/4k/859znx6d5bb2jr7f0sp80r180000gn/T/ipykernel_51308/2723992037.py:6: DataConversionWarning: A column-vector y was passed when a 1d array was expected. Please change the shape of y to (n_samples,), for example using ravel().\n",
      "  clf.fit(trainX, trainY)\n",
      "/var/folders/4k/859znx6d5bb2jr7f0sp80r180000gn/T/ipykernel_51308/2723992037.py:6: DataConversionWarning: A column-vector y was passed when a 1d array was expected. Please change the shape of y to (n_samples,), for example using ravel().\n",
      "  clf.fit(trainX, trainY)\n",
      "/var/folders/4k/859znx6d5bb2jr7f0sp80r180000gn/T/ipykernel_51308/2723992037.py:6: DataConversionWarning: A column-vector y was passed when a 1d array was expected. Please change the shape of y to (n_samples,), for example using ravel().\n",
      "  clf.fit(trainX, trainY)\n"
     ]
    }
   ],
   "source": [
    "clf =  RandomForestClassifier(oob_score=True)\n",
    "errors = []\n",
    "estimators = []\n",
    "for i in range(100,200):\n",
    "    clf.set_params(n_estimators=i)\n",
    "    clf.fit(trainX, trainY)\n",
    "    estimators.append(i)\n",
    "    oob_error = 1 - clf.oob_score_\n",
    "    errors.append(oob_error)"
   ]
  },
  {
   "cell_type": "code",
   "execution_count": 8,
   "id": "edd77004",
   "metadata": {},
   "outputs": [
    {
     "data": {
      "image/png": "[encoded data removed]",
      "text/plain": [
       "<Figure size 1080x432 with 1 Axes>"
      ]
     },
     "metadata": {
      "needs_background": "light"
     },
     "output_type": "display_data"
    }
   ],
   "source": [
    "plt.figure(figsize=(15,6))\n",
    "plt.plot(estimators, errors)\n",
    "plt.xlabel(\"n-estimators\")  # add X-axis label\n",
    "plt.ylabel(\"Oob errors\")  # add Y-axis label\n",
    "plt.title(\"oob error vs number of trees.\") \n",
    "plt.show(estimators,errors)"
   ]
  },
  {
   "cell_type": "code",
   "execution_count": 9,
   "id": "ac2d44f1",
   "metadata": {},
   "outputs": [
    {
     "name": "stdout",
     "output_type": "stream",
     "text": [
      "37\n",
      "137: 0.14471744471744474\n",
      "70\n",
      "170: 0.14474815724815726\n",
      "83\n",
      "183: 0.14487100737100733\n",
      "91\n",
      "191: 0.14487100737100733\n"
     ]
    }
   ],
   "source": [
    "for i in range(0,100):\n",
    "    if errors[i] < 0.145:\n",
    "        print(i)\n",
    "        print(str(estimators[i]) + \": \" + str(errors[i]))"
   ]
  },
  {
   "cell_type": "code",
   "execution_count": 10,
   "id": "f164856f",
   "metadata": {},
   "outputs": [
    {
     "name": "stderr",
     "output_type": "stream",
     "text": [
      "/var/folders/4k/859znx6d5bb2jr7f0sp80r180000gn/T/ipykernel_51308/1178440520.py:3: DataConversionWarning: A column-vector y was passed when a 1d array was expected. Please change the shape of y to (n_samples,), for example using ravel().\n",
      "  clf.fit(trainX, trainY)\n",
      "/Users/gautamsamudrala/opt/anaconda3/lib/python3.9/site-packages/sklearn/base.py:493: FutureWarning: The feature names should match those that were passed during fit. Starting version 1.2, an error will be raised.\n",
      "Feature names must be in the same order as they were in fit.\n",
      "\n",
      "  warnings.warn(message, FutureWarning)\n"
     ]
    },
    {
     "name": "stdout",
     "output_type": "stream",
     "text": [
      "Accuracy score: 0.8613721515877403\n",
      "Confusion Matrix: [[11874  1696]\n",
      " [  561  2150]]\n"
     ]
    }
   ],
   "source": [
    "from sklearn.metrics import accuracy_score, confusion_matrix\n",
    "clf.set_params(n_estimators=170)\n",
    "clf.fit(trainX, trainY)\n",
    "pred = clf.predict(testX)\n",
    "confusionMatrix = confusion_matrix(pred, testY)\n",
    "print('Accuracy score: '+ str(accuracy_score(pred,testY)))\n",
    "print('Confusion Matrix: ' + str(confusionMatrix))"
   ]
  },
  {
   "cell_type": "code",
   "execution_count": 11,
   "id": "3abd27f5",
   "metadata": {},
   "outputs": [
    {
     "name": "stderr",
     "output_type": "stream",
     "text": [
      "/Users/gautamsamudrala/opt/anaconda3/lib/python3.9/site-packages/sklearn/base.py:493: FutureWarning: The feature names should match those that were passed during fit. Starting version 1.2, an error will be raised.\n",
      "Feature names must be in the same order as they were in fit.\n",
      "\n",
      "  warnings.warn(message, FutureWarning)\n"
     ]
    },
    {
     "name": "stdout",
     "output_type": "stream",
     "text": [
      "              precision    recall  f1-score   support\n",
      "\n",
      "  Income<=50       0.88      0.95      0.91     12435\n",
      "   Income>50       0.79      0.56      0.66      3846\n",
      "\n",
      "    accuracy                           0.86     16281\n",
      "   macro avg       0.83      0.76      0.78     16281\n",
      "weighted avg       0.86      0.86      0.85     16281\n",
      "\n"
     ]
    },
    {
     "data": {
      "image/png": "[encoded data removed]",
      "text/plain": [
       "<Figure size 432x288 with 2 Axes>"
      ]
     },
     "metadata": {
      "needs_background": "light"
     },
     "output_type": "display_data"
    }
   ],
   "source": [
    "from sklearn.metrics import ConfusionMatrixDisplay\n",
    "from sklearn.metrics import classification_report\n",
    "ConfusionMatrixDisplay.from_estimator(clf, testX, testY)\n",
    "target_names = ['Income<=50','Income>50']\n",
    "print(classification_report(testY, pred, target_names=target_names))"
   ]
  },
  {
   "cell_type": "code",
   "execution_count": 22,
   "id": "0464c712",
   "metadata": {},
   "outputs": [],
   "source": [
    "#Data preprocessing for testing of different ethnic groups\n",
    "base = pd.get_dummies(testData)\n",
    "baseDrop = base.drop(['Income_<=50K.'],axis=1)\n",
    "baseRename = baseDrop.rename(columns ={'Income_>50K.':'Income_ >50K'})"
   ]
  },
  {
   "cell_type": "code",
   "execution_count": 33,
   "id": "bcfcd4ce",
   "metadata": {},
   "outputs": [
    {
     "name": "stdout",
     "output_type": "stream",
     "text": [
      "Accuracy score: 0.9119496855345912\n",
      "Confusion Matrix: [[138  12]\n",
      " [  2   7]]\n"
     ]
    },
    {
     "name": "stderr",
     "output_type": "stream",
     "text": [
      "/Users/gautamsamudrala/opt/anaconda3/lib/python3.9/site-packages/sklearn/base.py:493: FutureWarning: The feature names should match those that were passed during fit. Starting version 1.2, an error will be raised.\n",
      "Feature names must be in the same order as they were in fit.\n",
      "\n",
      "  warnings.warn(message, FutureWarning)\n"
     ]
    }
   ],
   "source": [
    "#Eskimo group testing for Race-Aware Classifier\n",
    "group = baseRename.groupby('Race_ Amer-Indian-Eskimo')\n",
    "groupEskimo = group.get_group(1)\n",
    "eskimoX = groupEskimo.drop(['Income_ >50K'],axis = 1)\n",
    "eskimoY = groupEskimo['Income_ >50K']\n",
    "predEskimo = clf.predict(eskimoX)\n",
    "confusionMatrix = confusion_matrix(predEskimo, eskimoY)\n",
    "print('Accuracy score: '+ str(accuracy_score(predEskimo,eskimoY)))\n",
    "print('Confusion Matrix: ' + str(confusionMatrix))"
   ]
  },
  {
   "cell_type": "code",
   "execution_count": 34,
   "id": "a55308b5",
   "metadata": {},
   "outputs": [
    {
     "name": "stdout",
     "output_type": "stream",
     "text": [
      "              precision    recall  f1-score   support\n",
      "\n",
      "  Income<=50       0.92      0.99      0.95       140\n",
      "   Income>50       0.78      0.37      0.50        19\n",
      "\n",
      "    accuracy                           0.91       159\n",
      "   macro avg       0.85      0.68      0.73       159\n",
      "weighted avg       0.90      0.91      0.90       159\n",
      "\n"
     ]
    },
    {
     "name": "stderr",
     "output_type": "stream",
     "text": [
      "/Users/gautamsamudrala/opt/anaconda3/lib/python3.9/site-packages/sklearn/base.py:493: FutureWarning: The feature names should match those that were passed during fit. Starting version 1.2, an error will be raised.\n",
      "Feature names must be in the same order as they were in fit.\n",
      "\n",
      "  warnings.warn(message, FutureWarning)\n"
     ]
    },
    {
     "data": {
      "image/png": "[encoded data removed]",
      "text/plain": [
       "<Figure size 432x288 with 2 Axes>"
      ]
     },
     "metadata": {
      "needs_background": "light"
     },
     "output_type": "display_data"
    }
   ],
   "source": [
    "ConfusionMatrixDisplay.from_estimator(clf, eskimoX,eskimoY)\n",
    "target_names = ['Income<=50','Income>50']\n",
    "print(classification_report(eskimoY, predEskimo, target_names=target_names))"
   ]
  },
  {
   "cell_type": "code",
   "execution_count": 36,
   "id": "9935a2b1",
   "metadata": {},
   "outputs": [
    {
     "name": "stdout",
     "output_type": "stream",
     "text": [
      "Accuracy score: 0.8458333333333333\n",
      "Confusion Matrix: [[331  58]\n",
      " [ 16  75]]\n"
     ]
    },
    {
     "name": "stderr",
     "output_type": "stream",
     "text": [
      "/Users/gautamsamudrala/opt/anaconda3/lib/python3.9/site-packages/sklearn/base.py:493: FutureWarning: The feature names should match those that were passed during fit. Starting version 1.2, an error will be raised.\n",
      "Feature names must be in the same order as they were in fit.\n",
      "\n",
      "  warnings.warn(message, FutureWarning)\n"
     ]
    }
   ],
   "source": [
    "#Asian and pacific Islander group testing for Race-Aware Classifier\n",
    "groupA = baseRename.groupby('Race_ Asian-Pac-Islander')\n",
    "groupAsian= groupA.get_group(1)\n",
    "asianX = groupAsian.drop(['Income_ >50K'],axis = 1)\n",
    "asianY = groupAsian['Income_ >50K']\n",
    "predAsian = clf.predict(asianX)\n",
    "confusionMatrix = confusion_matrix(predAsian, asianY)\n",
    "print('Accuracy score: '+ str(accuracy_score(predAsian,asianY)))\n",
    "print('Confusion Matrix: ' + str(confusionMatrix))"
   ]
  },
  {
   "cell_type": "code",
   "execution_count": 37,
   "id": "c11693e5",
   "metadata": {},
   "outputs": [
    {
     "name": "stdout",
     "output_type": "stream",
     "text": [
      "              precision    recall  f1-score   support\n",
      "\n",
      "  Income<=50       0.85      0.95      0.90       347\n",
      "   Income>50       0.82      0.56      0.67       133\n",
      "\n",
      "    accuracy                           0.85       480\n",
      "   macro avg       0.84      0.76      0.78       480\n",
      "weighted avg       0.84      0.85      0.84       480\n",
      "\n"
     ]
    },
    {
     "name": "stderr",
     "output_type": "stream",
     "text": [
      "/Users/gautamsamudrala/opt/anaconda3/lib/python3.9/site-packages/sklearn/base.py:493: FutureWarning: The feature names should match those that were passed during fit. Starting version 1.2, an error will be raised.\n",
      "Feature names must be in the same order as they were in fit.\n",
      "\n",
      "  warnings.warn(message, FutureWarning)\n"
     ]
    },
    {
     "data": {
      "image/png": "[encoded data removed]",
      "text/plain": [
       "<Figure size 432x288 with 2 Axes>"
      ]
     },
     "metadata": {
      "needs_background": "light"
     },
     "output_type": "display_data"
    }
   ],
   "source": [
    "ConfusionMatrixDisplay.from_estimator(clf, asianX,asianY)\n",
    "target_names = ['Income<=50','Income>50']\n",
    "print(classification_report(asianY, predAsian, target_names=target_names))"
   ]
  },
  {
   "cell_type": "code",
   "execution_count": 41,
   "id": "ac56df92",
   "metadata": {},
   "outputs": [
    {
     "name": "stdout",
     "output_type": "stream",
     "text": [
      "Accuracy score: 0.9250480461242793\n",
      "Confusion Matrix: [[1361   96]\n",
      " [  21   83]]\n"
     ]
    },
    {
     "name": "stderr",
     "output_type": "stream",
     "text": [
      "/Users/gautamsamudrala/opt/anaconda3/lib/python3.9/site-packages/sklearn/base.py:493: FutureWarning: The feature names should match those that were passed during fit. Starting version 1.2, an error will be raised.\n",
      "Feature names must be in the same order as they were in fit.\n",
      "\n",
      "  warnings.warn(message, FutureWarning)\n"
     ]
    }
   ],
   "source": [
    "#Black group testing for Race-Aware Classifier\n",
    "groupB = baseRename.groupby('Race_ Black')\n",
    "groupBlack= groupB.get_group(1)\n",
    "blackX = groupBlack.drop(['Income_ >50K'],axis = 1)\n",
    "blackY = groupBlack['Income_ >50K']\n",
    "predBlack = clf.predict(blackX)\n",
    "confusionMatrix = confusion_matrix(predBlack, blackY)\n",
    "print('Accuracy score: '+ str(accuracy_score(predBlack,blackY)))\n",
    "print('Confusion Matrix: ' + str(confusionMatrix))"
   ]
  },
  {
   "cell_type": "code",
   "execution_count": 42,
   "id": "12d4fc53",
   "metadata": {},
   "outputs": [
    {
     "name": "stdout",
     "output_type": "stream",
     "text": [
      "              precision    recall  f1-score   support\n",
      "\n",
      "  Income<=50       0.93      0.98      0.96      1382\n",
      "   Income>50       0.80      0.46      0.59       179\n",
      "\n",
      "    accuracy                           0.93      1561\n",
      "   macro avg       0.87      0.72      0.77      1561\n",
      "weighted avg       0.92      0.93      0.92      1561\n",
      "\n"
     ]
    },
    {
     "name": "stderr",
     "output_type": "stream",
     "text": [
      "/Users/gautamsamudrala/opt/anaconda3/lib/python3.9/site-packages/sklearn/base.py:493: FutureWarning: The feature names should match those that were passed during fit. Starting version 1.2, an error will be raised.\n",
      "Feature names must be in the same order as they were in fit.\n",
      "\n",
      "  warnings.warn(message, FutureWarning)\n"
     ]
    },
    {
     "data": {
      "image/png": "[encoded data removed]",
      "text/plain": [
       "<Figure size 432x288 with 2 Axes>"
      ]
     },
     "metadata": {
      "needs_background": "light"
     },
     "output_type": "display_data"
    }
   ],
   "source": [
    "ConfusionMatrixDisplay.from_estimator(clf, blackX,blackY)\n",
    "target_names = ['Income<=50','Income>50']\n",
    "print(classification_report(blackY, predBlack, target_names=target_names))"
   ]
  },
  {
   "cell_type": "code",
   "execution_count": 43,
   "id": "59b5c360",
   "metadata": {},
   "outputs": [
    {
     "name": "stdout",
     "output_type": "stream",
     "text": [
      "Accuracy score: 0.8666666666666667\n",
      "Confusion Matrix: [[109  17]\n",
      " [  1   8]]\n"
     ]
    },
    {
     "name": "stderr",
     "output_type": "stream",
     "text": [
      "/Users/gautamsamudrala/opt/anaconda3/lib/python3.9/site-packages/sklearn/base.py:493: FutureWarning: The feature names should match those that were passed during fit. Starting version 1.2, an error will be raised.\n",
      "Feature names must be in the same order as they were in fit.\n",
      "\n",
      "  warnings.warn(message, FutureWarning)\n"
     ]
    }
   ],
   "source": [
    "#Other group testing for Race-Aware Classifier\n",
    "groupO = baseRename.groupby('Race_ Other')\n",
    "groupOther= groupO.get_group(1)\n",
    "otherX = groupOther.drop(['Income_ >50K'],axis = 1)\n",
    "otherY = groupOther['Income_ >50K']\n",
    "predOther = clf.predict(otherX)\n",
    "confusionMatrix = confusion_matrix(predOther, otherY)\n",
    "print('Accuracy score: '+ str(accuracy_score(predOther,otherY)))\n",
    "print('Confusion Matrix: ' + str(confusionMatrix))"
   ]
  },
  {
   "cell_type": "code",
   "execution_count": 44,
   "id": "6f961cbd",
   "metadata": {},
   "outputs": [
    {
     "name": "stdout",
     "output_type": "stream",
     "text": [
      "              precision    recall  f1-score   support\n",
      "\n",
      "  Income<=50       0.87      0.99      0.92       110\n",
      "   Income>50       0.89      0.32      0.47        25\n",
      "\n",
      "    accuracy                           0.87       135\n",
      "   macro avg       0.88      0.66      0.70       135\n",
      "weighted avg       0.87      0.87      0.84       135\n",
      "\n"
     ]
    },
    {
     "name": "stderr",
     "output_type": "stream",
     "text": [
      "/Users/gautamsamudrala/opt/anaconda3/lib/python3.9/site-packages/sklearn/base.py:493: FutureWarning: The feature names should match those that were passed during fit. Starting version 1.2, an error will be raised.\n",
      "Feature names must be in the same order as they were in fit.\n",
      "\n",
      "  warnings.warn(message, FutureWarning)\n"
     ]
    },
    {
     "data": {
      "image/png": "[encoded data removed]",
      "text/plain": [
       "<Figure size 432x288 with 2 Axes>"
      ]
     },
     "metadata": {
      "needs_background": "light"
     },
     "output_type": "display_data"
    }
   ],
   "source": [
    "ConfusionMatrixDisplay.from_estimator(clf, otherX,otherY)\n",
    "target_names = ['Income<=50','Income>50']\n",
    "print(classification_report(otherY, predOther, target_names=target_names))"
   ]
  },
  {
   "cell_type": "code",
   "execution_count": 45,
   "id": "62ae85e5",
   "metadata": {},
   "outputs": [
    {
     "name": "stderr",
     "output_type": "stream",
     "text": [
      "/Users/gautamsamudrala/opt/anaconda3/lib/python3.9/site-packages/sklearn/base.py:493: FutureWarning: The feature names should match those that were passed during fit. Starting version 1.2, an error will be raised.\n",
      "Feature names must be in the same order as they were in fit.\n",
      "\n",
      "  warnings.warn(message, FutureWarning)\n"
     ]
    },
    {
     "name": "stdout",
     "output_type": "stream",
     "text": [
      "Accuracy score: 0.8541517280940771\n",
      "Confusion Matrix: [[9935 1513]\n",
      " [ 521 1977]]\n"
     ]
    }
   ],
   "source": [
    "#White group testing for Race-Aware Classifier\n",
    "groupW = baseRename.groupby('Race_ White')\n",
    "groupWhite= groupW.get_group(1)\n",
    "whiteX = groupWhite.drop(['Income_ >50K'],axis = 1)\n",
    "whiteY = groupWhite['Income_ >50K']\n",
    "predWhite = clf.predict(whiteX)\n",
    "confusionMatrix = confusion_matrix(predWhite, whiteY)\n",
    "print('Accuracy score: '+ str(accuracy_score(predWhite,whiteY)))\n",
    "print('Confusion Matrix: ' + str(confusionMatrix))"
   ]
  },
  {
   "cell_type": "code",
   "execution_count": 46,
   "id": "becbac4d",
   "metadata": {},
   "outputs": [
    {
     "name": "stderr",
     "output_type": "stream",
     "text": [
      "/Users/gautamsamudrala/opt/anaconda3/lib/python3.9/site-packages/sklearn/base.py:493: FutureWarning: The feature names should match those that were passed during fit. Starting version 1.2, an error will be raised.\n",
      "Feature names must be in the same order as they were in fit.\n",
      "\n",
      "  warnings.warn(message, FutureWarning)\n"
     ]
    },
    {
     "name": "stdout",
     "output_type": "stream",
     "text": [
      "              precision    recall  f1-score   support\n",
      "\n",
      "  Income<=50       0.87      0.95      0.91     10456\n",
      "   Income>50       0.79      0.57      0.66      3490\n",
      "\n",
      "    accuracy                           0.85     13946\n",
      "   macro avg       0.83      0.76      0.78     13946\n",
      "weighted avg       0.85      0.85      0.85     13946\n",
      "\n"
     ]
    },
    {
     "data": {
      "image/png": "[encoded data removed]",
      "text/plain": [
       "<Figure size 432x288 with 2 Axes>"
      ]
     },
     "metadata": {
      "needs_background": "light"
     },
     "output_type": "display_data"
    }
   ],
   "source": [
    "ConfusionMatrixDisplay.from_estimator(clf, whiteX,whiteY)\n",
    "target_names = ['Income<=50','Income>50']\n",
    "print(classification_report(whiteY, predWhite, target_names=target_names))"
   ]
  },
  {
   "cell_type": "code",
   "execution_count": 47,
   "id": "c3b46953",
   "metadata": {},
   "outputs": [
    {
     "name": "stdout",
     "output_type": "stream",
     "text": [
      "Education_10th\n",
      "Education_11th\n",
      "Education_12th\n",
      "Education_1st-4th\n",
      "Education_5th-6th\n",
      "Education_7th-8th\n",
      "Education_9th\n",
      "Education_ 10th\n",
      "Education_ 11th\n",
      "Education_ 12th\n",
      "Education_ 1st-4th\n",
      "Education_ 5th-6th\n",
      "Education_ 7th-8th\n",
      "Education_ 9th\n",
      "Country_ Holand-Netherlands\n"
     ]
    }
   ],
   "source": [
    "# Training for Race-Blind Classifer\n",
    "trainX = trainData.drop(['Income','Race'],axis=1)\n",
    "trainY = trainData.drop(['Age','WorkClass','fnlwgt','Education','Education_num','Martial_status','Occupation','Relationship','Race','Gender','capital_gain', 'capital_loss', 'hours_per_week','Country'],axis=1)\n",
    "trainY = pd.get_dummies(trainY)\n",
    "trainY = trainY.drop(['Income_ <=50K'], axis = 1)\n",
    "trainX = pd.get_dummies(trainX)\n",
    "testX = testData.drop(['Income','Race'],axis=1)\n",
    "testY = testData.drop(['Age','WorkClass','fnlwgt','Education','Education_num','Martial_status','Occupation','Relationship','Race','Gender','capital_gain', 'capital_loss', 'hours_per_week','Country'],axis=1)\n",
    "testY = pd.get_dummies(testY)\n",
    "testY = testY.drop(['Income_<=50K.'],axis=1)\n",
    "testY.columns=['Income_ >50K']\n",
    "testX = pd.get_dummies(testX)\n",
    "for co in testX.columns:\n",
    "    if co not in trainX.columns:\n",
    "        print(co)\n",
    "for co in trainX.columns:\n",
    "    if co not in testX.columns:\n",
    "        print(co)"
   ]
  },
  {
   "cell_type": "code",
   "execution_count": 48,
   "id": "a0b7e5c6",
   "metadata": {},
   "outputs": [
    {
     "name": "stdout",
     "output_type": "stream",
     "text": [
      "Age\n",
      "fnlwgt\n",
      "Education_num\n",
      "capital_gain\n",
      "capital_loss\n",
      "hours_per_week\n",
      "WorkClass_ ?\n",
      "WorkClass_ Federal-gov\n",
      "WorkClass_ Local-gov\n",
      "WorkClass_ Never-worked\n",
      "WorkClass_ Private\n",
      "WorkClass_ Self-emp-inc\n",
      "WorkClass_ Self-emp-not-inc\n",
      "WorkClass_ State-gov\n",
      "WorkClass_ Without-pay\n",
      "Education_10th\n",
      "Education_11th\n",
      "Education_12th\n",
      "Education_1st-4th\n",
      "Education_5th-6th\n",
      "Education_7th-8th\n",
      "Education_9th\n",
      "Education_ Assoc-acdm\n",
      "Education_ Assoc-voc\n",
      "Education_ Bachelors\n",
      "Education_ Doctorate\n",
      "Education_ HS-grad\n",
      "Education_ Masters\n",
      "Education_ Preschool\n",
      "Education_ Prof-school\n",
      "Education_ Some-college\n",
      "Martial_status_ Divorced\n",
      "Martial_status_ Married-AF-spouse\n",
      "Martial_status_ Married-civ-spouse\n",
      "Martial_status_ Married-spouse-absent\n",
      "Martial_status_ Never-married\n",
      "Martial_status_ Separated\n",
      "Martial_status_ Widowed\n",
      "Occupation_ ?\n",
      "Occupation_ Adm-clerical\n",
      "Occupation_ Armed-Forces\n",
      "Occupation_ Craft-repair\n",
      "Occupation_ Exec-managerial\n",
      "Occupation_ Farming-fishing\n",
      "Occupation_ Handlers-cleaners\n",
      "Occupation_ Machine-op-inspct\n",
      "Occupation_ Other-service\n",
      "Occupation_ Priv-house-serv\n",
      "Occupation_ Prof-specialty\n",
      "Occupation_ Protective-serv\n",
      "Occupation_ Sales\n",
      "Occupation_ Tech-support\n",
      "Occupation_ Transport-moving\n",
      "Relationship_ Husband\n",
      "Relationship_ Not-in-family\n",
      "Relationship_ Other-relative\n",
      "Relationship_ Own-child\n",
      "Relationship_ Unmarried\n",
      "Relationship_ Wife\n",
      "Gender_ Female\n",
      "Gender_ Male\n",
      "Country_ ?\n",
      "Country_ Cambodia\n",
      "Country_ Canada\n",
      "Country_ China\n",
      "Country_ Columbia\n",
      "Country_ Cuba\n",
      "Country_ Dominican-Republic\n",
      "Country_ Ecuador\n",
      "Country_ El-Salvador\n",
      "Country_ England\n",
      "Country_ France\n",
      "Country_ Germany\n",
      "Country_ Greece\n",
      "Country_ Guatemala\n",
      "Country_ Haiti\n",
      "Country_ Honduras\n",
      "Country_ Hong\n",
      "Country_ Hungary\n",
      "Country_ India\n",
      "Country_ Iran\n",
      "Country_ Ireland\n",
      "Country_ Italy\n",
      "Country_ Jamaica\n",
      "Country_ Japan\n",
      "Country_ Laos\n",
      "Country_ Mexico\n",
      "Country_ Nicaragua\n",
      "Country_ Outlying-US(Guam-USVI-etc)\n",
      "Country_ Peru\n",
      "Country_ Philippines\n",
      "Country_ Poland\n",
      "Country_ Portugal\n",
      "Country_ Puerto-Rico\n",
      "Country_ Scotland\n",
      "Country_ South\n",
      "Country_ Taiwan\n",
      "Country_ Thailand\n",
      "Country_ Trinadad&Tobago\n",
      "Country_ United-States\n",
      "Country_ Vietnam\n",
      "Country_ Yugoslavia\n"
     ]
    }
   ],
   "source": [
    "trainX = trainX.drop(['Country_ Holand-Netherlands'],axis=1)\n",
    "trainX.rename(columns = {'Education_ 10th':'Education_10th','Education_ 11th':'Education_11th','Education_ 12th':'Education_12th','Education_ 1st-4th':'Education_1st-4th','Education_ 5th-6th':'Education_5th-6th','Education_ 7th-8th':'Education_7th-8th','Education_ 9th':'Education_9th'},inplace = True)\n",
    "for co in testX.columns:\n",
    "    if co not in trainX.columns:\n",
    "        print(co)\n",
    "for co in trainX.columns:\n",
    "    print(co)\n",
    "    if co not in testX.columns:\n",
    "        print(co)"
   ]
  },
  {
   "cell_type": "code",
   "execution_count": 49,
   "id": "b45e219b",
   "metadata": {},
   "outputs": [
    {
     "name": "stderr",
     "output_type": "stream",
     "text": [
      "/var/folders/4k/859znx6d5bb2jr7f0sp80r180000gn/T/ipykernel_51308/2723992037.py:6: DataConversionWarning: A column-vector y was passed when a 1d array was expected. Please change the shape of y to (n_samples,), for example using ravel().\n",
      "  clf.fit(trainX, trainY)\n",
      "/var/folders/4k/859znx6d5bb2jr7f0sp80r180000gn/T/ipykernel_51308/2723992037.py:6: DataConversionWarning: A column-vector y was passed when a 1d array was expected. Please change the shape of y to (n_samples,), for example using ravel().\n",
      "  clf.fit(trainX, trainY)\n",
      "/var/folders/4k/859znx6d5bb2jr7f0sp80r180000gn/T/ipykernel_51308/2723992037.py:6: DataConversionWarning: A column-vector y was passed when a 1d array was expected. Please change the shape of y to (n_samples,), for example using ravel().\n",
      "  clf.fit(trainX, trainY)\n",
      "/var/folders/4k/859znx6d5bb2jr7f0sp80r180000gn/T/ipykernel_51308/2723992037.py:6: DataConversionWarning: A column-vector y was passed when a 1d array was expected. Please change the shape of y to (n_samples,), for example using ravel().\n",
      "  clf.fit(trainX, trainY)\n",
      "/var/folders/4k/859znx6d5bb2jr7f0sp80r180000gn/T/ipykernel_51308/2723992037.py:6: DataConversionWarning: A column-vector y was passed when a 1d array was expected. Please change the shape of y to (n_samples,), for example using ravel().\n",
      "  clf.fit(trainX, trainY)\n",
      "/var/folders/4k/859znx6d5bb2jr7f0sp80r180000gn/T/ipykernel_51308/2723992037.py:6: DataConversionWarning: A column-vector y was passed when a 1d array was expected. Please change the shape of y to (n_samples,), for example using ravel().\n",
      "  clf.fit(trainX, trainY)\n",
      "/var/folders/4k/859znx6d5bb2jr7f0sp80r180000gn/T/ipykernel_51308/2723992037.py:6: DataConversionWarning: A column-vector y was passed when a 1d array was expected. Please change the shape of y to (n_samples,), for example using ravel().\n",
      "  clf.fit(trainX, trainY)\n",
      "/var/folders/4k/859znx6d5bb2jr7f0sp80r180000gn/T/ipykernel_51308/2723992037.py:6: DataConversionWarning: A column-vector y was passed when a 1d array was expected. Please change the shape of y to (n_samples,), for example using ravel().\n",
      "  clf.fit(trainX, trainY)\n",
      "/var/folders/4k/859znx6d5bb2jr7f0sp80r180000gn/T/ipykernel_51308/2723992037.py:6: DataConversionWarning: A column-vector y was passed when a 1d array was expected. Please change the shape of y to (n_samples,), for example using ravel().\n",
      "  clf.fit(trainX, trainY)\n",
      "/var/folders/4k/859znx6d5bb2jr7f0sp80r180000gn/T/ipykernel_51308/2723992037.py:6: DataConversionWarning: A column-vector y was passed when a 1d array was expected. Please change the shape of y to (n_samples,), for example using ravel().\n",
      "  clf.fit(trainX, trainY)\n",
      "/var/folders/4k/859znx6d5bb2jr7f0sp80r180000gn/T/ipykernel_51308/2723992037.py:6: DataConversionWarning: A column-vector y was passed when a 1d array was expected. Please change the shape of y to (n_samples,), for example using ravel().\n",
      "  clf.fit(trainX, trainY)\n",
      "/var/folders/4k/859znx6d5bb2jr7f0sp80r180000gn/T/ipykernel_51308/2723992037.py:6: DataConversionWarning: A column-vector y was passed when a 1d array was expected. Please change the shape of y to (n_samples,), for example using ravel().\n",
      "  clf.fit(trainX, trainY)\n",
      "/var/folders/4k/859znx6d5bb2jr7f0sp80r180000gn/T/ipykernel_51308/2723992037.py:6: DataConversionWarning: A column-vector y was passed when a 1d array was expected. Please change the shape of y to (n_samples,), for example using ravel().\n",
      "  clf.fit(trainX, trainY)\n",
      "/var/folders/4k/859znx6d5bb2jr7f0sp80r180000gn/T/ipykernel_51308/2723992037.py:6: DataConversionWarning: A column-vector y was passed when a 1d array was expected. Please change the shape of y to (n_samples,), for example using ravel().\n",
      "  clf.fit(trainX, trainY)\n",
      "/var/folders/4k/859znx6d5bb2jr7f0sp80r180000gn/T/ipykernel_51308/2723992037.py:6: DataConversionWarning: A column-vector y was passed when a 1d array was expected. Please change the shape of y to (n_samples,), for example using ravel().\n",
      "  clf.fit(trainX, trainY)\n",
      "/var/folders/4k/859znx6d5bb2jr7f0sp80r180000gn/T/ipykernel_51308/2723992037.py:6: DataConversionWarning: A column-vector y was passed when a 1d array was expected. Please change the shape of y to (n_samples,), for example using ravel().\n",
      "  clf.fit(trainX, trainY)\n",
      "/var/folders/4k/859znx6d5bb2jr7f0sp80r180000gn/T/ipykernel_51308/2723992037.py:6: DataConversionWarning: A column-vector y was passed when a 1d array was expected. Please change the shape of y to (n_samples,), for example using ravel().\n",
      "  clf.fit(trainX, trainY)\n",
      "/var/folders/4k/859znx6d5bb2jr7f0sp80r180000gn/T/ipykernel_51308/2723992037.py:6: DataConversionWarning: A column-vector y was passed when a 1d array was expected. Please change the shape of y to (n_samples,), for example using ravel().\n",
      "  clf.fit(trainX, trainY)\n",
      "/var/folders/4k/859znx6d5bb2jr7f0sp80r180000gn/T/ipykernel_51308/2723992037.py:6: DataConversionWarning: A column-vector y was passed when a 1d array was expected. Please change the shape of y to (n_samples,), for example using ravel().\n",
      "  clf.fit(trainX, trainY)\n",
      "/var/folders/4k/859znx6d5bb2jr7f0sp80r180000gn/T/ipykernel_51308/2723992037.py:6: DataConversionWarning: A column-vector y was passed when a 1d array was expected. Please change the shape of y to (n_samples,), for example using ravel().\n",
      "  clf.fit(trainX, trainY)\n",
      "/var/folders/4k/859znx6d5bb2jr7f0sp80r180000gn/T/ipykernel_51308/2723992037.py:6: DataConversionWarning: A column-vector y was passed when a 1d array was expected. Please change the shape of y to (n_samples,), for example using ravel().\n",
      "  clf.fit(trainX, trainY)\n",
      "/var/folders/4k/859znx6d5bb2jr7f0sp80r180000gn/T/ipykernel_51308/2723992037.py:6: DataConversionWarning: A column-vector y was passed when a 1d array was expected. Please change the shape of y to (n_samples,), for example using ravel().\n",
      "  clf.fit(trainX, trainY)\n",
      "/var/folders/4k/859znx6d5bb2jr7f0sp80r180000gn/T/ipykernel_51308/2723992037.py:6: DataConversionWarning: A column-vector y was passed when a 1d array was expected. Please change the shape of y to (n_samples,), for example using ravel().\n",
      "  clf.fit(trainX, trainY)\n",
      "/var/folders/4k/859znx6d5bb2jr7f0sp80r180000gn/T/ipykernel_51308/2723992037.py:6: DataConversionWarning: A column-vector y was passed when a 1d array was expected. Please change the shape of y to (n_samples,), for example using ravel().\n",
      "  clf.fit(trainX, trainY)\n",
      "/var/folders/4k/859znx6d5bb2jr7f0sp80r180000gn/T/ipykernel_51308/2723992037.py:6: DataConversionWarning: A column-vector y was passed when a 1d array was expected. Please change the shape of y to (n_samples,), for example using ravel().\n",
      "  clf.fit(trainX, trainY)\n",
      "/var/folders/4k/859znx6d5bb2jr7f0sp80r180000gn/T/ipykernel_51308/2723992037.py:6: DataConversionWarning: A column-vector y was passed when a 1d array was expected. Please change the shape of y to (n_samples,), for example using ravel().\n",
      "  clf.fit(trainX, trainY)\n",
      "/var/folders/4k/859znx6d5bb2jr7f0sp80r180000gn/T/ipykernel_51308/2723992037.py:6: DataConversionWarning: A column-vector y was passed when a 1d array was expected. Please change the shape of y to (n_samples,), for example using ravel().\n",
      "  clf.fit(trainX, trainY)\n",
      "/var/folders/4k/859znx6d5bb2jr7f0sp80r180000gn/T/ipykernel_51308/2723992037.py:6: DataConversionWarning: A column-vector y was passed when a 1d array was expected. Please change the shape of y to (n_samples,), for example using ravel().\n",
      "  clf.fit(trainX, trainY)\n",
      "/var/folders/4k/859znx6d5bb2jr7f0sp80r180000gn/T/ipykernel_51308/2723992037.py:6: DataConversionWarning: A column-vector y was passed when a 1d array was expected. Please change the shape of y to (n_samples,), for example using ravel().\n",
      "  clf.fit(trainX, trainY)\n",
      "/var/folders/4k/859znx6d5bb2jr7f0sp80r180000gn/T/ipykernel_51308/2723992037.py:6: DataConversionWarning: A column-vector y was passed when a 1d array was expected. Please change the shape of y to (n_samples,), for example using ravel().\n",
      "  clf.fit(trainX, trainY)\n",
      "/var/folders/4k/859znx6d5bb2jr7f0sp80r180000gn/T/ipykernel_51308/2723992037.py:6: DataConversionWarning: A column-vector y was passed when a 1d array was expected. Please change the shape of y to (n_samples,), for example using ravel().\n",
      "  clf.fit(trainX, trainY)\n",
      "/var/folders/4k/859znx6d5bb2jr7f0sp80r180000gn/T/ipykernel_51308/2723992037.py:6: DataConversionWarning: A column-vector y was passed when a 1d array was expected. Please change the shape of y to (n_samples,), for example using ravel().\n",
      "  clf.fit(trainX, trainY)\n"
     ]
    },
    {
     "name": "stderr",
     "output_type": "stream",
     "text": [
      "/var/folders/4k/859znx6d5bb2jr7f0sp80r180000gn/T/ipykernel_51308/2723992037.py:6: DataConversionWarning: A column-vector y was passed when a 1d array was expected. Please change the shape of y to (n_samples,), for example using ravel().\n",
      "  clf.fit(trainX, trainY)\n",
      "/var/folders/4k/859znx6d5bb2jr7f0sp80r180000gn/T/ipykernel_51308/2723992037.py:6: DataConversionWarning: A column-vector y was passed when a 1d array was expected. Please change the shape of y to (n_samples,), for example using ravel().\n",
      "  clf.fit(trainX, trainY)\n",
      "/var/folders/4k/859znx6d5bb2jr7f0sp80r180000gn/T/ipykernel_51308/2723992037.py:6: DataConversionWarning: A column-vector y was passed when a 1d array was expected. Please change the shape of y to (n_samples,), for example using ravel().\n",
      "  clf.fit(trainX, trainY)\n",
      "/var/folders/4k/859znx6d5bb2jr7f0sp80r180000gn/T/ipykernel_51308/2723992037.py:6: DataConversionWarning: A column-vector y was passed when a 1d array was expected. Please change the shape of y to (n_samples,), for example using ravel().\n",
      "  clf.fit(trainX, trainY)\n",
      "/var/folders/4k/859znx6d5bb2jr7f0sp80r180000gn/T/ipykernel_51308/2723992037.py:6: DataConversionWarning: A column-vector y was passed when a 1d array was expected. Please change the shape of y to (n_samples,), for example using ravel().\n",
      "  clf.fit(trainX, trainY)\n",
      "/var/folders/4k/859znx6d5bb2jr7f0sp80r180000gn/T/ipykernel_51308/2723992037.py:6: DataConversionWarning: A column-vector y was passed when a 1d array was expected. Please change the shape of y to (n_samples,), for example using ravel().\n",
      "  clf.fit(trainX, trainY)\n",
      "/var/folders/4k/859znx6d5bb2jr7f0sp80r180000gn/T/ipykernel_51308/2723992037.py:6: DataConversionWarning: A column-vector y was passed when a 1d array was expected. Please change the shape of y to (n_samples,), for example using ravel().\n",
      "  clf.fit(trainX, trainY)\n",
      "/var/folders/4k/859znx6d5bb2jr7f0sp80r180000gn/T/ipykernel_51308/2723992037.py:6: DataConversionWarning: A column-vector y was passed when a 1d array was expected. Please change the shape of y to (n_samples,), for example using ravel().\n",
      "  clf.fit(trainX, trainY)\n",
      "/var/folders/4k/859znx6d5bb2jr7f0sp80r180000gn/T/ipykernel_51308/2723992037.py:6: DataConversionWarning: A column-vector y was passed when a 1d array was expected. Please change the shape of y to (n_samples,), for example using ravel().\n",
      "  clf.fit(trainX, trainY)\n",
      "/var/folders/4k/859znx6d5bb2jr7f0sp80r180000gn/T/ipykernel_51308/2723992037.py:6: DataConversionWarning: A column-vector y was passed when a 1d array was expected. Please change the shape of y to (n_samples,), for example using ravel().\n",
      "  clf.fit(trainX, trainY)\n",
      "/var/folders/4k/859znx6d5bb2jr7f0sp80r180000gn/T/ipykernel_51308/2723992037.py:6: DataConversionWarning: A column-vector y was passed when a 1d array was expected. Please change the shape of y to (n_samples,), for example using ravel().\n",
      "  clf.fit(trainX, trainY)\n",
      "/var/folders/4k/859znx6d5bb2jr7f0sp80r180000gn/T/ipykernel_51308/2723992037.py:6: DataConversionWarning: A column-vector y was passed when a 1d array was expected. Please change the shape of y to (n_samples,), for example using ravel().\n",
      "  clf.fit(trainX, trainY)\n",
      "/var/folders/4k/859znx6d5bb2jr7f0sp80r180000gn/T/ipykernel_51308/2723992037.py:6: DataConversionWarning: A column-vector y was passed when a 1d array was expected. Please change the shape of y to (n_samples,), for example using ravel().\n",
      "  clf.fit(trainX, trainY)\n",
      "/var/folders/4k/859znx6d5bb2jr7f0sp80r180000gn/T/ipykernel_51308/2723992037.py:6: DataConversionWarning: A column-vector y was passed when a 1d array was expected. Please change the shape of y to (n_samples,), for example using ravel().\n",
      "  clf.fit(trainX, trainY)\n",
      "/var/folders/4k/859znx6d5bb2jr7f0sp80r180000gn/T/ipykernel_51308/2723992037.py:6: DataConversionWarning: A column-vector y was passed when a 1d array was expected. Please change the shape of y to (n_samples,), for example using ravel().\n",
      "  clf.fit(trainX, trainY)\n",
      "/var/folders/4k/859znx6d5bb2jr7f0sp80r180000gn/T/ipykernel_51308/2723992037.py:6: DataConversionWarning: A column-vector y was passed when a 1d array was expected. Please change the shape of y to (n_samples,), for example using ravel().\n",
      "  clf.fit(trainX, trainY)\n",
      "/var/folders/4k/859znx6d5bb2jr7f0sp80r180000gn/T/ipykernel_51308/2723992037.py:6: DataConversionWarning: A column-vector y was passed when a 1d array was expected. Please change the shape of y to (n_samples,), for example using ravel().\n",
      "  clf.fit(trainX, trainY)\n",
      "/var/folders/4k/859znx6d5bb2jr7f0sp80r180000gn/T/ipykernel_51308/2723992037.py:6: DataConversionWarning: A column-vector y was passed when a 1d array was expected. Please change the shape of y to (n_samples,), for example using ravel().\n",
      "  clf.fit(trainX, trainY)\n",
      "/var/folders/4k/859znx6d5bb2jr7f0sp80r180000gn/T/ipykernel_51308/2723992037.py:6: DataConversionWarning: A column-vector y was passed when a 1d array was expected. Please change the shape of y to (n_samples,), for example using ravel().\n",
      "  clf.fit(trainX, trainY)\n",
      "/var/folders/4k/859znx6d5bb2jr7f0sp80r180000gn/T/ipykernel_51308/2723992037.py:6: DataConversionWarning: A column-vector y was passed when a 1d array was expected. Please change the shape of y to (n_samples,), for example using ravel().\n",
      "  clf.fit(trainX, trainY)\n",
      "/var/folders/4k/859znx6d5bb2jr7f0sp80r180000gn/T/ipykernel_51308/2723992037.py:6: DataConversionWarning: A column-vector y was passed when a 1d array was expected. Please change the shape of y to (n_samples,), for example using ravel().\n",
      "  clf.fit(trainX, trainY)\n",
      "/var/folders/4k/859znx6d5bb2jr7f0sp80r180000gn/T/ipykernel_51308/2723992037.py:6: DataConversionWarning: A column-vector y was passed when a 1d array was expected. Please change the shape of y to (n_samples,), for example using ravel().\n",
      "  clf.fit(trainX, trainY)\n",
      "/var/folders/4k/859znx6d5bb2jr7f0sp80r180000gn/T/ipykernel_51308/2723992037.py:6: DataConversionWarning: A column-vector y was passed when a 1d array was expected. Please change the shape of y to (n_samples,), for example using ravel().\n",
      "  clf.fit(trainX, trainY)\n",
      "/var/folders/4k/859znx6d5bb2jr7f0sp80r180000gn/T/ipykernel_51308/2723992037.py:6: DataConversionWarning: A column-vector y was passed when a 1d array was expected. Please change the shape of y to (n_samples,), for example using ravel().\n",
      "  clf.fit(trainX, trainY)\n",
      "/var/folders/4k/859znx6d5bb2jr7f0sp80r180000gn/T/ipykernel_51308/2723992037.py:6: DataConversionWarning: A column-vector y was passed when a 1d array was expected. Please change the shape of y to (n_samples,), for example using ravel().\n",
      "  clf.fit(trainX, trainY)\n",
      "/var/folders/4k/859znx6d5bb2jr7f0sp80r180000gn/T/ipykernel_51308/2723992037.py:6: DataConversionWarning: A column-vector y was passed when a 1d array was expected. Please change the shape of y to (n_samples,), for example using ravel().\n",
      "  clf.fit(trainX, trainY)\n",
      "/var/folders/4k/859znx6d5bb2jr7f0sp80r180000gn/T/ipykernel_51308/2723992037.py:6: DataConversionWarning: A column-vector y was passed when a 1d array was expected. Please change the shape of y to (n_samples,), for example using ravel().\n",
      "  clf.fit(trainX, trainY)\n",
      "/var/folders/4k/859znx6d5bb2jr7f0sp80r180000gn/T/ipykernel_51308/2723992037.py:6: DataConversionWarning: A column-vector y was passed when a 1d array was expected. Please change the shape of y to (n_samples,), for example using ravel().\n",
      "  clf.fit(trainX, trainY)\n",
      "/var/folders/4k/859znx6d5bb2jr7f0sp80r180000gn/T/ipykernel_51308/2723992037.py:6: DataConversionWarning: A column-vector y was passed when a 1d array was expected. Please change the shape of y to (n_samples,), for example using ravel().\n",
      "  clf.fit(trainX, trainY)\n",
      "/var/folders/4k/859znx6d5bb2jr7f0sp80r180000gn/T/ipykernel_51308/2723992037.py:6: DataConversionWarning: A column-vector y was passed when a 1d array was expected. Please change the shape of y to (n_samples,), for example using ravel().\n",
      "  clf.fit(trainX, trainY)\n",
      "/var/folders/4k/859znx6d5bb2jr7f0sp80r180000gn/T/ipykernel_51308/2723992037.py:6: DataConversionWarning: A column-vector y was passed when a 1d array was expected. Please change the shape of y to (n_samples,), for example using ravel().\n",
      "  clf.fit(trainX, trainY)\n",
      "/var/folders/4k/859znx6d5bb2jr7f0sp80r180000gn/T/ipykernel_51308/2723992037.py:6: DataConversionWarning: A column-vector y was passed when a 1d array was expected. Please change the shape of y to (n_samples,), for example using ravel().\n",
      "  clf.fit(trainX, trainY)\n"
     ]
    },
    {
     "name": "stderr",
     "output_type": "stream",
     "text": [
      "/var/folders/4k/859znx6d5bb2jr7f0sp80r180000gn/T/ipykernel_51308/2723992037.py:6: DataConversionWarning: A column-vector y was passed when a 1d array was expected. Please change the shape of y to (n_samples,), for example using ravel().\n",
      "  clf.fit(trainX, trainY)\n",
      "/var/folders/4k/859znx6d5bb2jr7f0sp80r180000gn/T/ipykernel_51308/2723992037.py:6: DataConversionWarning: A column-vector y was passed when a 1d array was expected. Please change the shape of y to (n_samples,), for example using ravel().\n",
      "  clf.fit(trainX, trainY)\n",
      "/var/folders/4k/859znx6d5bb2jr7f0sp80r180000gn/T/ipykernel_51308/2723992037.py:6: DataConversionWarning: A column-vector y was passed when a 1d array was expected. Please change the shape of y to (n_samples,), for example using ravel().\n",
      "  clf.fit(trainX, trainY)\n",
      "/var/folders/4k/859znx6d5bb2jr7f0sp80r180000gn/T/ipykernel_51308/2723992037.py:6: DataConversionWarning: A column-vector y was passed when a 1d array was expected. Please change the shape of y to (n_samples,), for example using ravel().\n",
      "  clf.fit(trainX, trainY)\n",
      "/var/folders/4k/859znx6d5bb2jr7f0sp80r180000gn/T/ipykernel_51308/2723992037.py:6: DataConversionWarning: A column-vector y was passed when a 1d array was expected. Please change the shape of y to (n_samples,), for example using ravel().\n",
      "  clf.fit(trainX, trainY)\n",
      "/var/folders/4k/859znx6d5bb2jr7f0sp80r180000gn/T/ipykernel_51308/2723992037.py:6: DataConversionWarning: A column-vector y was passed when a 1d array was expected. Please change the shape of y to (n_samples,), for example using ravel().\n",
      "  clf.fit(trainX, trainY)\n",
      "/var/folders/4k/859znx6d5bb2jr7f0sp80r180000gn/T/ipykernel_51308/2723992037.py:6: DataConversionWarning: A column-vector y was passed when a 1d array was expected. Please change the shape of y to (n_samples,), for example using ravel().\n",
      "  clf.fit(trainX, trainY)\n",
      "/var/folders/4k/859znx6d5bb2jr7f0sp80r180000gn/T/ipykernel_51308/2723992037.py:6: DataConversionWarning: A column-vector y was passed when a 1d array was expected. Please change the shape of y to (n_samples,), for example using ravel().\n",
      "  clf.fit(trainX, trainY)\n",
      "/var/folders/4k/859znx6d5bb2jr7f0sp80r180000gn/T/ipykernel_51308/2723992037.py:6: DataConversionWarning: A column-vector y was passed when a 1d array was expected. Please change the shape of y to (n_samples,), for example using ravel().\n",
      "  clf.fit(trainX, trainY)\n",
      "/var/folders/4k/859znx6d5bb2jr7f0sp80r180000gn/T/ipykernel_51308/2723992037.py:6: DataConversionWarning: A column-vector y was passed when a 1d array was expected. Please change the shape of y to (n_samples,), for example using ravel().\n",
      "  clf.fit(trainX, trainY)\n",
      "/var/folders/4k/859znx6d5bb2jr7f0sp80r180000gn/T/ipykernel_51308/2723992037.py:6: DataConversionWarning: A column-vector y was passed when a 1d array was expected. Please change the shape of y to (n_samples,), for example using ravel().\n",
      "  clf.fit(trainX, trainY)\n",
      "/var/folders/4k/859znx6d5bb2jr7f0sp80r180000gn/T/ipykernel_51308/2723992037.py:6: DataConversionWarning: A column-vector y was passed when a 1d array was expected. Please change the shape of y to (n_samples,), for example using ravel().\n",
      "  clf.fit(trainX, trainY)\n",
      "/var/folders/4k/859znx6d5bb2jr7f0sp80r180000gn/T/ipykernel_51308/2723992037.py:6: DataConversionWarning: A column-vector y was passed when a 1d array was expected. Please change the shape of y to (n_samples,), for example using ravel().\n",
      "  clf.fit(trainX, trainY)\n",
      "/var/folders/4k/859znx6d5bb2jr7f0sp80r180000gn/T/ipykernel_51308/2723992037.py:6: DataConversionWarning: A column-vector y was passed when a 1d array was expected. Please change the shape of y to (n_samples,), for example using ravel().\n",
      "  clf.fit(trainX, trainY)\n",
      "/var/folders/4k/859znx6d5bb2jr7f0sp80r180000gn/T/ipykernel_51308/2723992037.py:6: DataConversionWarning: A column-vector y was passed when a 1d array was expected. Please change the shape of y to (n_samples,), for example using ravel().\n",
      "  clf.fit(trainX, trainY)\n",
      "/var/folders/4k/859znx6d5bb2jr7f0sp80r180000gn/T/ipykernel_51308/2723992037.py:6: DataConversionWarning: A column-vector y was passed when a 1d array was expected. Please change the shape of y to (n_samples,), for example using ravel().\n",
      "  clf.fit(trainX, trainY)\n",
      "/var/folders/4k/859znx6d5bb2jr7f0sp80r180000gn/T/ipykernel_51308/2723992037.py:6: DataConversionWarning: A column-vector y was passed when a 1d array was expected. Please change the shape of y to (n_samples,), for example using ravel().\n",
      "  clf.fit(trainX, trainY)\n",
      "/var/folders/4k/859znx6d5bb2jr7f0sp80r180000gn/T/ipykernel_51308/2723992037.py:6: DataConversionWarning: A column-vector y was passed when a 1d array was expected. Please change the shape of y to (n_samples,), for example using ravel().\n",
      "  clf.fit(trainX, trainY)\n",
      "/var/folders/4k/859znx6d5bb2jr7f0sp80r180000gn/T/ipykernel_51308/2723992037.py:6: DataConversionWarning: A column-vector y was passed when a 1d array was expected. Please change the shape of y to (n_samples,), for example using ravel().\n",
      "  clf.fit(trainX, trainY)\n",
      "/var/folders/4k/859znx6d5bb2jr7f0sp80r180000gn/T/ipykernel_51308/2723992037.py:6: DataConversionWarning: A column-vector y was passed when a 1d array was expected. Please change the shape of y to (n_samples,), for example using ravel().\n",
      "  clf.fit(trainX, trainY)\n",
      "/var/folders/4k/859znx6d5bb2jr7f0sp80r180000gn/T/ipykernel_51308/2723992037.py:6: DataConversionWarning: A column-vector y was passed when a 1d array was expected. Please change the shape of y to (n_samples,), for example using ravel().\n",
      "  clf.fit(trainX, trainY)\n",
      "/var/folders/4k/859znx6d5bb2jr7f0sp80r180000gn/T/ipykernel_51308/2723992037.py:6: DataConversionWarning: A column-vector y was passed when a 1d array was expected. Please change the shape of y to (n_samples,), for example using ravel().\n",
      "  clf.fit(trainX, trainY)\n",
      "/var/folders/4k/859znx6d5bb2jr7f0sp80r180000gn/T/ipykernel_51308/2723992037.py:6: DataConversionWarning: A column-vector y was passed when a 1d array was expected. Please change the shape of y to (n_samples,), for example using ravel().\n",
      "  clf.fit(trainX, trainY)\n",
      "/var/folders/4k/859znx6d5bb2jr7f0sp80r180000gn/T/ipykernel_51308/2723992037.py:6: DataConversionWarning: A column-vector y was passed when a 1d array was expected. Please change the shape of y to (n_samples,), for example using ravel().\n",
      "  clf.fit(trainX, trainY)\n",
      "/var/folders/4k/859znx6d5bb2jr7f0sp80r180000gn/T/ipykernel_51308/2723992037.py:6: DataConversionWarning: A column-vector y was passed when a 1d array was expected. Please change the shape of y to (n_samples,), for example using ravel().\n",
      "  clf.fit(trainX, trainY)\n",
      "/var/folders/4k/859znx6d5bb2jr7f0sp80r180000gn/T/ipykernel_51308/2723992037.py:6: DataConversionWarning: A column-vector y was passed when a 1d array was expected. Please change the shape of y to (n_samples,), for example using ravel().\n",
      "  clf.fit(trainX, trainY)\n",
      "/var/folders/4k/859znx6d5bb2jr7f0sp80r180000gn/T/ipykernel_51308/2723992037.py:6: DataConversionWarning: A column-vector y was passed when a 1d array was expected. Please change the shape of y to (n_samples,), for example using ravel().\n",
      "  clf.fit(trainX, trainY)\n",
      "/var/folders/4k/859znx6d5bb2jr7f0sp80r180000gn/T/ipykernel_51308/2723992037.py:6: DataConversionWarning: A column-vector y was passed when a 1d array was expected. Please change the shape of y to (n_samples,), for example using ravel().\n",
      "  clf.fit(trainX, trainY)\n",
      "/var/folders/4k/859znx6d5bb2jr7f0sp80r180000gn/T/ipykernel_51308/2723992037.py:6: DataConversionWarning: A column-vector y was passed when a 1d array was expected. Please change the shape of y to (n_samples,), for example using ravel().\n",
      "  clf.fit(trainX, trainY)\n",
      "/var/folders/4k/859znx6d5bb2jr7f0sp80r180000gn/T/ipykernel_51308/2723992037.py:6: DataConversionWarning: A column-vector y was passed when a 1d array was expected. Please change the shape of y to (n_samples,), for example using ravel().\n",
      "  clf.fit(trainX, trainY)\n",
      "/var/folders/4k/859znx6d5bb2jr7f0sp80r180000gn/T/ipykernel_51308/2723992037.py:6: DataConversionWarning: A column-vector y was passed when a 1d array was expected. Please change the shape of y to (n_samples,), for example using ravel().\n",
      "  clf.fit(trainX, trainY)\n",
      "/var/folders/4k/859znx6d5bb2jr7f0sp80r180000gn/T/ipykernel_51308/2723992037.py:6: DataConversionWarning: A column-vector y was passed when a 1d array was expected. Please change the shape of y to (n_samples,), for example using ravel().\n",
      "  clf.fit(trainX, trainY)\n"
     ]
    },
    {
     "name": "stderr",
     "output_type": "stream",
     "text": [
      "/var/folders/4k/859znx6d5bb2jr7f0sp80r180000gn/T/ipykernel_51308/2723992037.py:6: DataConversionWarning: A column-vector y was passed when a 1d array was expected. Please change the shape of y to (n_samples,), for example using ravel().\n",
      "  clf.fit(trainX, trainY)\n",
      "/var/folders/4k/859znx6d5bb2jr7f0sp80r180000gn/T/ipykernel_51308/2723992037.py:6: DataConversionWarning: A column-vector y was passed when a 1d array was expected. Please change the shape of y to (n_samples,), for example using ravel().\n",
      "  clf.fit(trainX, trainY)\n",
      "/var/folders/4k/859znx6d5bb2jr7f0sp80r180000gn/T/ipykernel_51308/2723992037.py:6: DataConversionWarning: A column-vector y was passed when a 1d array was expected. Please change the shape of y to (n_samples,), for example using ravel().\n",
      "  clf.fit(trainX, trainY)\n",
      "/var/folders/4k/859znx6d5bb2jr7f0sp80r180000gn/T/ipykernel_51308/2723992037.py:6: DataConversionWarning: A column-vector y was passed when a 1d array was expected. Please change the shape of y to (n_samples,), for example using ravel().\n",
      "  clf.fit(trainX, trainY)\n"
     ]
    }
   ],
   "source": [
    "clf =  RandomForestClassifier(oob_score=True)\n",
    "errors = []\n",
    "estimators = []\n",
    "for i in range(100,200):\n",
    "    clf.set_params(n_estimators=i)\n",
    "    clf.fit(trainX, trainY)\n",
    "    estimators.append(i)\n",
    "    oob_error = 1 - clf.oob_score_\n",
    "    errors.append(oob_error)"
   ]
  },
  {
   "cell_type": "code",
   "execution_count": 50,
   "id": "43bad05e",
   "metadata": {},
   "outputs": [
    {
     "data": {
      "image/png": "[encoded data removed]",
      "text/plain": [
       "<Figure size 1080x432 with 1 Axes>"
      ]
     },
     "metadata": {
      "needs_background": "light"
     },
     "output_type": "display_data"
    }
   ],
   "source": [
    "plt.figure(figsize=(15,6))\n",
    "plt.plot(estimators, errors)\n",
    "plt.xlabel(\"n-estimators\")  # add X-axis label\n",
    "plt.ylabel(\"Oob errors\")  # add Y-axis label\n",
    "plt.title(\"oob error vs number of trees.\") \n",
    "plt.show(estimators,errors)"
   ]
  },
  {
   "cell_type": "code",
   "execution_count": 51,
   "id": "4fb8a478",
   "metadata": {},
   "outputs": [
    {
     "name": "stdout",
     "output_type": "stream",
     "text": [
      "93\n",
      "193: 0.14539312039312036\n"
     ]
    }
   ],
   "source": [
    "for i in range(0,100):\n",
    "    if errors[i] < 0.1455:\n",
    "        print(i)\n",
    "        print(str(estimators[i]) + \": \" + str(errors[i]))"
   ]
  },
  {
   "cell_type": "code",
   "execution_count": 52,
   "id": "345af6d7",
   "metadata": {},
   "outputs": [
    {
     "name": "stderr",
     "output_type": "stream",
     "text": [
      "/var/folders/4k/859znx6d5bb2jr7f0sp80r180000gn/T/ipykernel_51308/150071148.py:3: DataConversionWarning: A column-vector y was passed when a 1d array was expected. Please change the shape of y to (n_samples,), for example using ravel().\n",
      "  clf.fit(trainX, trainY)\n",
      "/Users/gautamsamudrala/opt/anaconda3/lib/python3.9/site-packages/sklearn/base.py:493: FutureWarning: The feature names should match those that were passed during fit. Starting version 1.2, an error will be raised.\n",
      "Feature names must be in the same order as they were in fit.\n",
      "\n",
      "  warnings.warn(message, FutureWarning)\n"
     ]
    },
    {
     "name": "stdout",
     "output_type": "stream",
     "text": [
      "Accuracy score: 0.8600823045267489\n",
      "Confusion Matrix: [[11843  1686]\n",
      " [  592  2160]]\n"
     ]
    }
   ],
   "source": [
    "from sklearn.metrics import accuracy_score, confusion_matrix\n",
    "clf.set_params(n_estimators=193)\n",
    "clf.fit(trainX, trainY)\n",
    "predB = clf.predict(testX)\n",
    "confusionMatrixB = confusion_matrix(predB, testY)\n",
    "print('Accuracy score: '+ str(accuracy_score(predB,testY)))\n",
    "print('Confusion Matrix: ' + str(confusionMatrixB))"
   ]
  },
  {
   "cell_type": "code",
   "execution_count": 53,
   "id": "62e1b2be",
   "metadata": {},
   "outputs": [
    {
     "name": "stderr",
     "output_type": "stream",
     "text": [
      "/Users/gautamsamudrala/opt/anaconda3/lib/python3.9/site-packages/sklearn/base.py:493: FutureWarning: The feature names should match those that were passed during fit. Starting version 1.2, an error will be raised.\n",
      "Feature names must be in the same order as they were in fit.\n",
      "\n",
      "  warnings.warn(message, FutureWarning)\n"
     ]
    },
    {
     "name": "stdout",
     "output_type": "stream",
     "text": [
      "              precision    recall  f1-score   support\n",
      "\n",
      "  Income<=50       0.88      0.95      0.91     12435\n",
      "   Income>50       0.78      0.56      0.65      3846\n",
      "\n",
      "    accuracy                           0.86     16281\n",
      "   macro avg       0.83      0.76      0.78     16281\n",
      "weighted avg       0.85      0.86      0.85     16281\n",
      "\n"
     ]
    },
    {
     "data": {
      "image/png": "[encoded data removed]",
      "text/plain": [
       "<Figure size 432x288 with 2 Axes>"
      ]
     },
     "metadata": {
      "needs_background": "light"
     },
     "output_type": "display_data"
    }
   ],
   "source": [
    "from sklearn.metrics import ConfusionMatrixDisplay\n",
    "from sklearn.metrics import classification_report\n",
    "ConfusionMatrixDisplay.from_estimator(clf, testX, testY)\n",
    "target_names = ['Income<=50','Income>50']\n",
    "print(classification_report(testY, predB, target_names=target_names))"
   ]
  },
  {
   "cell_type": "code",
   "execution_count": 59,
   "id": "6606c135",
   "metadata": {},
   "outputs": [
    {
     "name": "stdout",
     "output_type": "stream",
     "text": [
      "Accuracy score: 0.9182389937106918\n",
      "Confusion Matrix: [[136   9]\n",
      " [  4  10]]\n"
     ]
    },
    {
     "name": "stderr",
     "output_type": "stream",
     "text": [
      "/Users/gautamsamudrala/opt/anaconda3/lib/python3.9/site-packages/sklearn/base.py:493: FutureWarning: The feature names should match those that were passed during fit. Starting version 1.2, an error will be raised.\n",
      "Feature names must be in the same order as they were in fit.\n",
      "\n",
      "  warnings.warn(message, FutureWarning)\n"
     ]
    }
   ],
   "source": [
    "#Testing for Eskimo race-blind classifier\n",
    "groupEskimoU = groupEskimo.drop(['Race_ Amer-Indian-Eskimo','Race_ Asian-Pac-Islander','Race_ Black','Race_ Other','Race_ White'],axis =1)\n",
    "eskimoXU = groupEskimoU.drop(['Income_ >50K'],axis = 1)\n",
    "eskimoYU = groupEskimoU['Income_ >50K']\n",
    "predEskimoU = clf.predict(eskimoXU)\n",
    "confusionMatrix = confusion_matrix(predEskimoU, eskimoYU)\n",
    "print('Accuracy score: '+ str(accuracy_score(predEskimoU,eskimoYU)))\n",
    "print('Confusion Matrix: ' + str(confusionMatrix))"
   ]
  },
  {
   "cell_type": "code",
   "execution_count": 61,
   "id": "e063653a",
   "metadata": {},
   "outputs": [
    {
     "name": "stdout",
     "output_type": "stream",
     "text": [
      "              precision    recall  f1-score   support\n",
      "\n",
      "  Income<=50       0.94      0.97      0.95       140\n",
      "   Income>50       0.71      0.53      0.61        19\n",
      "\n",
      "    accuracy                           0.92       159\n",
      "   macro avg       0.83      0.75      0.78       159\n",
      "weighted avg       0.91      0.92      0.91       159\n",
      "\n"
     ]
    },
    {
     "name": "stderr",
     "output_type": "stream",
     "text": [
      "/Users/gautamsamudrala/opt/anaconda3/lib/python3.9/site-packages/sklearn/base.py:493: FutureWarning: The feature names should match those that were passed during fit. Starting version 1.2, an error will be raised.\n",
      "Feature names must be in the same order as they were in fit.\n",
      "\n",
      "  warnings.warn(message, FutureWarning)\n"
     ]
    },
    {
     "data": {
      "image/png": "[encoded data removed]",
      "text/plain": [
       "<Figure size 432x288 with 2 Axes>"
      ]
     },
     "metadata": {
      "needs_background": "light"
     },
     "output_type": "display_data"
    }
   ],
   "source": [
    "ConfusionMatrixDisplay.from_estimator(clf, eskimoXU,eskimoYU)\n",
    "target_names = ['Income<=50','Income>50']\n",
    "print(classification_report(eskimoYU, predEskimoU, target_names=target_names))"
   ]
  },
  {
   "cell_type": "code",
   "execution_count": 66,
   "id": "f762961a",
   "metadata": {},
   "outputs": [
    {
     "name": "stdout",
     "output_type": "stream",
     "text": [
      "Accuracy score: 0.8333333333333334\n",
      "Confusion Matrix: [[325  58]\n",
      " [ 22  75]]\n"
     ]
    },
    {
     "name": "stderr",
     "output_type": "stream",
     "text": [
      "/Users/gautamsamudrala/opt/anaconda3/lib/python3.9/site-packages/sklearn/base.py:493: FutureWarning: The feature names should match those that were passed during fit. Starting version 1.2, an error will be raised.\n",
      "Feature names must be in the same order as they were in fit.\n",
      "\n",
      "  warnings.warn(message, FutureWarning)\n"
     ]
    }
   ],
   "source": [
    "#Testing for Asian race-blind classifier\n",
    "groupAsianU= groupAsian.drop(['Race_ Amer-Indian-Eskimo','Race_ Asian-Pac-Islander','Race_ Black','Race_ Other','Race_ White'],axis =1)\n",
    "asianXU = groupAsianU.drop(['Income_ >50K'],axis = 1)\n",
    "asianYU = groupAsianU['Income_ >50K']\n",
    "predAsianU = clf.predict(asianXU)\n",
    "confusionMatrix = confusion_matrix(predAsianU, asianYU)\n",
    "print('Accuracy score: '+ str(accuracy_score(predAsianU,asianYU)))\n",
    "print('Confusion Matrix: ' + str(confusionMatrix))"
   ]
  },
  {
   "cell_type": "code",
   "execution_count": 67,
   "id": "2a382fa9",
   "metadata": {},
   "outputs": [
    {
     "name": "stdout",
     "output_type": "stream",
     "text": [
      "              precision    recall  f1-score   support\n",
      "\n",
      "  Income<=50       0.85      0.94      0.89       347\n",
      "   Income>50       0.77      0.56      0.65       133\n",
      "\n",
      "    accuracy                           0.83       480\n",
      "   macro avg       0.81      0.75      0.77       480\n",
      "weighted avg       0.83      0.83      0.82       480\n",
      "\n"
     ]
    },
    {
     "name": "stderr",
     "output_type": "stream",
     "text": [
      "/Users/gautamsamudrala/opt/anaconda3/lib/python3.9/site-packages/sklearn/base.py:493: FutureWarning: The feature names should match those that were passed during fit. Starting version 1.2, an error will be raised.\n",
      "Feature names must be in the same order as they were in fit.\n",
      "\n",
      "  warnings.warn(message, FutureWarning)\n"
     ]
    },
    {
     "data": {
      "image/png": "[encoded data removed]",
      "text/plain": [
       "<Figure size 432x288 with 2 Axes>"
      ]
     },
     "metadata": {
      "needs_background": "light"
     },
     "output_type": "display_data"
    }
   ],
   "source": [
    "ConfusionMatrixDisplay.from_estimator(clf, asianXU,asianYU)\n",
    "target_names = ['Income<=50','Income>50']\n",
    "print(classification_report(asianYU, predAsianU, target_names=target_names))"
   ]
  },
  {
   "cell_type": "code",
   "execution_count": 68,
   "id": "2c73e761",
   "metadata": {},
   "outputs": [
    {
     "name": "stdout",
     "output_type": "stream",
     "text": [
      "Accuracy score: 0.8814814814814815\n",
      "Confusion Matrix: [[109  15]\n",
      " [  1  10]]\n"
     ]
    },
    {
     "name": "stderr",
     "output_type": "stream",
     "text": [
      "/Users/gautamsamudrala/opt/anaconda3/lib/python3.9/site-packages/sklearn/base.py:493: FutureWarning: The feature names should match those that were passed during fit. Starting version 1.2, an error will be raised.\n",
      "Feature names must be in the same order as they were in fit.\n",
      "\n",
      "  warnings.warn(message, FutureWarning)\n"
     ]
    }
   ],
   "source": [
    "#Testing for Other race-blind classifier\n",
    "groupOtherU= groupOther.drop(['Race_ Amer-Indian-Eskimo','Race_ Asian-Pac-Islander','Race_ Black','Race_ Other','Race_ White'],axis =1)\n",
    "otherXU = groupOtherU.drop(['Income_ >50K'],axis = 1)\n",
    "otherYU = groupOtherU['Income_ >50K']\n",
    "predOtherU = clf.predict(otherXU)\n",
    "confusionMatrix = confusion_matrix(predOtherU, otherYU)\n",
    "print('Accuracy score: '+ str(accuracy_score(predOtherU,otherYU)))\n",
    "print('Confusion Matrix: ' + str(confusionMatrix))"
   ]
  },
  {
   "cell_type": "code",
   "execution_count": 69,
   "id": "45bc3df5",
   "metadata": {},
   "outputs": [
    {
     "name": "stdout",
     "output_type": "stream",
     "text": [
      "              precision    recall  f1-score   support\n",
      "\n",
      "  Income<=50       0.88      0.99      0.93       110\n",
      "   Income>50       0.91      0.40      0.56        25\n",
      "\n",
      "    accuracy                           0.88       135\n",
      "   macro avg       0.89      0.70      0.74       135\n",
      "weighted avg       0.88      0.88      0.86       135\n",
      "\n"
     ]
    },
    {
     "name": "stderr",
     "output_type": "stream",
     "text": [
      "/Users/gautamsamudrala/opt/anaconda3/lib/python3.9/site-packages/sklearn/base.py:493: FutureWarning: The feature names should match those that were passed during fit. Starting version 1.2, an error will be raised.\n",
      "Feature names must be in the same order as they were in fit.\n",
      "\n",
      "  warnings.warn(message, FutureWarning)\n"
     ]
    },
    {
     "data": {
      "image/png": "[encoded data removed]",
      "text/plain": [
       "<Figure size 432x288 with 2 Axes>"
      ]
     },
     "metadata": {
      "needs_background": "light"
     },
     "output_type": "display_data"
    }
   ],
   "source": [
    "ConfusionMatrixDisplay.from_estimator(clf, otherXU,otherYU)\n",
    "target_names = ['Income<=50','Income>50']\n",
    "print(classification_report(otherYU,predOtherU, target_names=target_names))"
   ]
  },
  {
   "cell_type": "code",
   "execution_count": 70,
   "id": "c75bebe8",
   "metadata": {},
   "outputs": [
    {
     "name": "stdout",
     "output_type": "stream",
     "text": [
      "Accuracy score: 0.9244074311338886\n",
      "Confusion Matrix: [[1351   87]\n",
      " [  31   92]]\n"
     ]
    },
    {
     "name": "stderr",
     "output_type": "stream",
     "text": [
      "/Users/gautamsamudrala/opt/anaconda3/lib/python3.9/site-packages/sklearn/base.py:493: FutureWarning: The feature names should match those that were passed during fit. Starting version 1.2, an error will be raised.\n",
      "Feature names must be in the same order as they were in fit.\n",
      "\n",
      "  warnings.warn(message, FutureWarning)\n"
     ]
    }
   ],
   "source": [
    "#Testing for Black race-blind classifier\n",
    "groupBlackU= groupBlack.drop(['Race_ Amer-Indian-Eskimo','Race_ Asian-Pac-Islander','Race_ Black','Race_ Other','Race_ White'],axis =1)\n",
    "blackXU = groupBlackU.drop(['Income_ >50K'],axis = 1)\n",
    "blackYU = groupBlackU['Income_ >50K']\n",
    "predBlackU = clf.predict(blackXU)\n",
    "confusionMatrix = confusion_matrix(predBlackU, blackYU)\n",
    "print('Accuracy score: '+ str(accuracy_score(predBlackU,blackYU)))\n",
    "print('Confusion Matrix: ' + str(confusionMatrix))"
   ]
  },
  {
   "cell_type": "code",
   "execution_count": 71,
   "id": "8d5d023f",
   "metadata": {},
   "outputs": [
    {
     "name": "stdout",
     "output_type": "stream",
     "text": [
      "              precision    recall  f1-score   support\n",
      "\n",
      "  Income<=50       0.94      0.98      0.96      1382\n",
      "   Income>50       0.75      0.51      0.61       179\n",
      "\n",
      "    accuracy                           0.92      1561\n",
      "   macro avg       0.84      0.75      0.78      1561\n",
      "weighted avg       0.92      0.92      0.92      1561\n",
      "\n"
     ]
    },
    {
     "name": "stderr",
     "output_type": "stream",
     "text": [
      "/Users/gautamsamudrala/opt/anaconda3/lib/python3.9/site-packages/sklearn/base.py:493: FutureWarning: The feature names should match those that were passed during fit. Starting version 1.2, an error will be raised.\n",
      "Feature names must be in the same order as they were in fit.\n",
      "\n",
      "  warnings.warn(message, FutureWarning)\n"
     ]
    },
    {
     "data": {
      "image/png": "[encoded data removed]",
      "text/plain": [
       "<Figure size 432x288 with 2 Axes>"
      ]
     },
     "metadata": {
      "needs_background": "light"
     },
     "output_type": "display_data"
    }
   ],
   "source": [
    "ConfusionMatrixDisplay.from_estimator(clf, blackXU,blackYU)\n",
    "target_names = ['Income<=50','Income>50']\n",
    "print(classification_report(blackYU,predBlackU, target_names=target_names))"
   ]
  },
  {
   "cell_type": "code",
   "execution_count": 72,
   "id": "dc5d5008",
   "metadata": {},
   "outputs": [
    {
     "name": "stderr",
     "output_type": "stream",
     "text": [
      "/Users/gautamsamudrala/opt/anaconda3/lib/python3.9/site-packages/sklearn/base.py:493: FutureWarning: The feature names should match those that were passed during fit. Starting version 1.2, an error will be raised.\n",
      "Feature names must be in the same order as they were in fit.\n",
      "\n",
      "  warnings.warn(message, FutureWarning)\n"
     ]
    },
    {
     "name": "stdout",
     "output_type": "stream",
     "text": [
      "Accuracy score: 0.852932740570773\n",
      "Confusion Matrix: [[9922 1517]\n",
      " [ 534 1973]]\n"
     ]
    }
   ],
   "source": [
    "#Testing for White race-blind classifier\n",
    "groupWhiteU= groupWhite.drop(['Race_ Amer-Indian-Eskimo','Race_ Asian-Pac-Islander','Race_ Black','Race_ Other','Race_ White'],axis =1)\n",
    "whiteXU = groupWhiteU.drop(['Income_ >50K'],axis = 1)\n",
    "whiteYU = groupWhiteU['Income_ >50K']\n",
    "predWhiteU = clf.predict(whiteXU)\n",
    "confusionMatrix = confusion_matrix(predWhiteU, whiteYU)\n",
    "print('Accuracy score: '+ str(accuracy_score(predWhiteU,whiteYU)))\n",
    "print('Confusion Matrix: ' + str(confusionMatrix))"
   ]
  },
  {
   "cell_type": "code",
   "execution_count": 73,
   "id": "6030f9b6",
   "metadata": {},
   "outputs": [
    {
     "name": "stderr",
     "output_type": "stream",
     "text": [
      "/Users/gautamsamudrala/opt/anaconda3/lib/python3.9/site-packages/sklearn/base.py:493: FutureWarning: The feature names should match those that were passed during fit. Starting version 1.2, an error will be raised.\n",
      "Feature names must be in the same order as they were in fit.\n",
      "\n",
      "  warnings.warn(message, FutureWarning)\n"
     ]
    },
    {
     "name": "stdout",
     "output_type": "stream",
     "text": [
      "              precision    recall  f1-score   support\n",
      "\n",
      "  Income<=50       0.87      0.95      0.91     10456\n",
      "   Income>50       0.79      0.57      0.66      3490\n",
      "\n",
      "    accuracy                           0.85     13946\n",
      "   macro avg       0.83      0.76      0.78     13946\n",
      "weighted avg       0.85      0.85      0.84     13946\n",
      "\n"
     ]
    },
    {
     "data": {
      "image/png": "[encoded data removed]",
      "text/plain": [
       "<Figure size 432x288 with 2 Axes>"
      ]
     },
     "metadata": {
      "needs_background": "light"
     },
     "output_type": "display_data"
    }
   ],
   "source": [
    "ConfusionMatrixDisplay.from_estimator(clf, whiteXU,whiteYU)\n",
    "target_names = ['Income<=50','Income>50']\n",
    "print(classification_report(whiteYU,predWhiteU, target_names=target_names))"
   ]
  },
  {
   "cell_type": "code",
   "execution_count": null,
   "id": "fee81d78",
   "metadata": {},
   "outputs": [],
   "source": []
  }
 ],
 "metadata": {
  "kernelspec": {
   "display_name": "Python 3 (ipykernel)",
   "language": "python",
   "name": "python3"
  },
  "language_info": {
   "codemirror_mode": {
    "name": "ipython",
    "version": 3
   },
   "file_extension": ".py",
   "mimetype": "text/x-python",
   "name": "python",
   "nbconvert_exporter": "python",
   "pygments_lexer": "ipython3",
   "version": "3.9.12"
  }
 },
 "nbformat": 4,
 "nbformat_minor": 5
}
